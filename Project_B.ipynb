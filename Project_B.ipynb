{
 "cells": [
  {
   "cell_type": "markdown",
   "metadata": {
    "colab_type": "text",
    "id": "iD5WgI25C-_v"
   },
   "source": [
    "# Visualizing word context from news articles\n",
    "### Author - Parth Naik"
   ]
  },
  {
   "cell_type": "markdown",
   "metadata": {},
   "source": [
    "## Contents\n",
    "1. [Introduction](#Introduction)\n",
    "2. [Background](#Background)\n",
    "3. [Methodology](#Methodology)\n",
    "4. [Discussion](#Discussion)\n",
    "5. [Conclusion](#Conclusion)\n",
    "6. [References](#References)"
   ]
  },
  {
   "cell_type": "markdown",
   "metadata": {},
   "source": [
    "## Introduction\n",
    "In today's digital world, almost everyone has access to electronic media and as a result world news now reach almost all parts of the globe. This has led to internet news publishing websites to have unprecendented opportunity to shape the readers' opinions around global/local issues. In this project I try to investigate how the news headlines and short description text might affect readers' perception by visualizing the word vectors obtained by using a skip-gram model on the news data corpus. The skip-gram model uses locality of words to infer which words have co-relation and uses these word, local_neighbour pair as a input, target pair for training a Auto-Encoder, the encoder part of the network is used for getting the vector representation of words. We use this representation to plot the words and see which words seem to be close together. The following is a brief description of the dataset - [about the data](#About-the-data)."
   ]
  },
  {
   "cell_type": "markdown",
   "metadata": {},
   "source": [
    "## Background\n",
    "\n",
    "There has a been an ever increasing notion of the huge role played by digital media in the shaping people's opinions in case of global/local issues. The fact that different publishing houses frame the same piece of news in a different way results in the same event to be viewed in different light depending on the publication the people choose to view. A classic example of this is CNN vs FOX news. However this notion is not new and has been described as 'agenda-setting theory'.\n",
    "\n",
    "Agenda-setting theory describes the \"ability (of the news media) to influence the importance placed on the topics of the public agenda\". Agenda-setting theory was formally developed by Max McCombs and Donald Shaw in a study on the 1968 American presidential election. Agenda setting is a social science theory; it also attempts to make predictions. The theory also suggests that media has a great influence to their audience by instilling what they should think instead of what they think. That is, if a news item is covered frequently and prominently, the audience will regard the issue as more important.\n",
    "\n",
    "Agenda-setting is the creation of public awareness and concern of salient issues by the news media. As well, agenda-setting describes the way that media attempts to influence viewers, and establish a hierarchy of news prevalence. Two basic assumptions underlie most researches on agenda-setting:\n",
    "\n",
    "1. The press and the media do not reflect reality; they filter and shape it\n",
    "2. Media concentration on a few issues and subjects leads the public to perceive those issues as more important than other issues.\n",
    "\n",
    "These core statements were established by measuring the changes in salience through the use of surveys with the presence of more frequent news coverage.\n",
    "\n",
    "One of the most critical aspects in the concept of an agenda-setting role of mass communication is the time frame for this phenomenon. Different media have different agenda-setting potential. From the perspective of agenda setting, the analysis of the relationship between traditional media and new virtual spaces has witnessed growing momentum. - https://en.wikipedia.org/wiki/Agenda-setting_theory\n",
    "\n",
    "For example, A BBC article claims that the media had a big role to play in the results of the last U.S presedential election. https://www.bbc.com/news/entertainment-arts-37952249\n",
    "\n",
    "#### This project as a result tries to visualize how and which words in the news data corpus appear close/far from each other due to their use in news headlines and short descriptions which would to some extent indicate the notion the articles convey."
   ]
  },
  {
   "cell_type": "markdown",
   "metadata": {},
   "source": [
    "### About the data\n",
    "This dataset contains around 200k news headlines from the year 2012 to 2018 obtained from HuffPost. This data is compiled by a Kaggle user(rmisra) and exists as a Kaggle dataset. We download this data in the form of a .json file using the kaggle API. We load this data as a pandas dataframe so as to make it easy for us to do further pre-processing."
   ]
  },
  {
   "cell_type": "markdown",
   "metadata": {},
   "source": [
    "## Methodology\n",
    "The process of obtaining word vectors from a text corpus encompasses several data pipeline steps as follows:\n",
    "1. [Getting the data](#Getting-the-data)\n",
    "2. [Loading the data](#Loading-the-data)\n",
    "3. [Exploring the data](#Exploring-the-data)\n",
    "3. [Data Pre-processing](#Data-pre-processing)\n",
    "4. [Modelling](#Modelling)\n",
    "5. [Generating Visualizations](#Results)"
   ]
  },
  {
   "cell_type": "code",
   "execution_count": 0,
   "metadata": {
    "colab": {},
    "colab_type": "code",
    "id": "OhSTxPagDBzE"
   },
   "outputs": [],
   "source": [
    "# Import the necessary libraries\n",
    "\n",
    "# Array ops\n",
    "import numpy as np\n",
    "\n",
    "# Data manipulation\n",
    "import pandas as pd\n",
    "\n",
    "# Data Visualization\n",
    "import matplotlib.pyplot as plt\n",
    "%matplotlib inline\n",
    "\n",
    "# Deep learning library\n",
    "import tensorflow as tf"
   ]
  },
  {
   "cell_type": "markdown",
   "metadata": {
    "colab_type": "text",
    "id": "m6aP6SJPGx8G"
   },
   "source": [
    "### Getting the data\n",
    "The data consisting of HuffPost news articles from 2012 - 2018 is compiled and submitted to Kaggle. In this project we use Google Colab as our platform of choice. Kaggle has a python library which can be used to import Kaggle datasets into colab. The Kaggle library needs the user Kaggle API key and the dataset key to fetch the dataset. The fetched dataset is in the form of a .json document."
   ]
  },
  {
   "cell_type": "code",
   "execution_count": 0,
   "metadata": {
    "colab": {
     "base_uri": "https://localhost:8080/",
     "height": 204
    },
    "colab_type": "code",
    "id": "wiTqnerZF_ZI",
    "outputId": "9821af0a-f33c-4a56-c299-df03d489d871"
   },
   "outputs": [
    {
     "name": "stdout",
     "output_type": "stream",
     "text": [
      "Requirement already satisfied: kaggle in /usr/local/lib/python3.6/dist-packages (1.5.3)\n",
      "Requirement already satisfied: certifi in /usr/local/lib/python3.6/dist-packages (from kaggle) (2019.3.9)\n",
      "Requirement already satisfied: python-dateutil in /usr/local/lib/python3.6/dist-packages (from kaggle) (2.5.3)\n",
      "Requirement already satisfied: urllib3<1.25,>=1.21.1 in /usr/local/lib/python3.6/dist-packages (from kaggle) (1.24.3)\n",
      "Requirement already satisfied: tqdm in /usr/local/lib/python3.6/dist-packages (from kaggle) (4.28.1)\n",
      "Requirement already satisfied: requests in /usr/local/lib/python3.6/dist-packages (from kaggle) (2.21.0)\n",
      "Requirement already satisfied: python-slugify in /usr/local/lib/python3.6/dist-packages (from kaggle) (3.0.2)\n",
      "Requirement already satisfied: six>=1.10 in /usr/local/lib/python3.6/dist-packages (from kaggle) (1.12.0)\n",
      "Requirement already satisfied: chardet<3.1.0,>=3.0.2 in /usr/local/lib/python3.6/dist-packages (from requests->kaggle) (3.0.4)\n",
      "Requirement already satisfied: idna<2.9,>=2.5 in /usr/local/lib/python3.6/dist-packages (from requests->kaggle) (2.8)\n",
      "Requirement already satisfied: text-unidecode==1.2 in /usr/local/lib/python3.6/dist-packages (from python-slugify->kaggle) (1.2)\n"
     ]
    }
   ],
   "source": [
    "# Make sure kaggle is installed\n",
    "!pip install kaggle"
   ]
  },
  {
   "cell_type": "code",
   "execution_count": 0,
   "metadata": {
    "colab": {
     "base_uri": "https://localhost:8080/",
     "height": 74,
     "resources": {
      "http://localhost:8080/nbextensions/google.colab/files.js": {
       "data": "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",
       "headers": [
        [
         "content-type",
         "application/javascript"
        ]
       ],
       "ok": true,
       "status": 200,
       "status_text": ""
      }
     }
    },
    "colab_type": "code",
    "id": "-RMIgC7FG6fn",
    "outputId": "0097a8d5-1cfe-4183-b824-95695630673a"
   },
   "outputs": [
    {
     "data": {
      "text/html": [
       "\n",
       "     <input type=\"file\" id=\"files-c4d2e82a-f0d5-43cc-a901-df220290cea7\" name=\"files[]\" multiple disabled />\n",
       "     <output id=\"result-c4d2e82a-f0d5-43cc-a901-df220290cea7\">\n",
       "      Upload widget is only available when the cell has been executed in the\n",
       "      current browser session. Please rerun this cell to enable.\n",
       "      </output>\n",
       "      <script src=\"/nbextensions/google.colab/files.js\"></script> "
      ],
      "text/plain": [
       "<IPython.core.display.HTML object>"
      ]
     },
     "metadata": {
      "tags": []
     },
     "output_type": "display_data"
    },
    {
     "name": "stdout",
     "output_type": "stream",
     "text": [
      "Saving kaggle.json to kaggle.json\n"
     ]
    }
   ],
   "source": [
    "# Upload the kaggle.json file\n",
    "from google.colab import files\n",
    "uploaded = files.upload()"
   ]
  },
  {
   "cell_type": "code",
   "execution_count": 0,
   "metadata": {
    "colab": {},
    "colab_type": "code",
    "id": "DayVTtXVHKFF"
   },
   "outputs": [],
   "source": [
    "# Move it to the required position\n",
    "!mv kaggle.json /root/.kaggle/kaggle.json\n",
    "# Change the permissions\n",
    "!chmod 600 /root/.kaggle/kaggle.json"
   ]
  },
  {
   "cell_type": "code",
   "execution_count": 0,
   "metadata": {
    "colab": {
     "base_uri": "https://localhost:8080/",
     "height": 68
    },
    "colab_type": "code",
    "id": "VyBRAoRlGTLS",
    "outputId": "eadc772d-5a3f-4560-8e0e-68a3e12cc459"
   },
   "outputs": [
    {
     "name": "stdout",
     "output_type": "stream",
     "text": [
      "Downloading news-category-dataset.zip to /content\n",
      "100% 25.0M/25.1M [00:00<00:00, 48.8MB/s]\n",
      "100% 25.1M/25.1M [00:00<00:00, 99.5MB/s]\n"
     ]
    }
   ],
   "source": [
    "# Download the data\n",
    "!kaggle datasets download -d rmisra/news-category-dataset"
   ]
  },
  {
   "cell_type": "code",
   "execution_count": 0,
   "metadata": {
    "colab": {
     "base_uri": "https://localhost:8080/",
     "height": 51
    },
    "colab_type": "code",
    "id": "OcYoj8c7KEdv",
    "outputId": "01e131d4-4bf4-4795-8736-0450df03a803",
    "scrolled": true
   },
   "outputs": [
    {
     "name": "stdout",
     "output_type": "stream",
     "text": [
      "Archive:  news-category-dataset.zip\n",
      "  inflating: News_Category_Dataset_v2.json  \n"
     ]
    }
   ],
   "source": [
    "# Unzip the data\n",
    "!unzip news-category-dataset.zip"
   ]
  },
  {
   "cell_type": "markdown",
   "metadata": {},
   "source": [
    "### Loading the data\n",
    "In this project I used the pandas library to load and process the .json document. Initially we load the .json document as a dataframe which makes it very convenient to manipulate and explore the data."
   ]
  },
  {
   "cell_type": "code",
   "execution_count": 0,
   "metadata": {
    "colab": {
     "base_uri": "https://localhost:8080/",
     "height": 289
    },
    "colab_type": "code",
    "id": "GrBRJU-hKPLt",
    "outputId": "4092c962-1c7a-4c67-9a58-46d9ba25ffa6",
    "scrolled": false
   },
   "outputs": [
    {
     "data": {
      "text/html": [
       "<div>\n",
       "<style scoped>\n",
       "    .dataframe tbody tr th:only-of-type {\n",
       "        vertical-align: middle;\n",
       "    }\n",
       "\n",
       "    .dataframe tbody tr th {\n",
       "        vertical-align: top;\n",
       "    }\n",
       "\n",
       "    .dataframe thead th {\n",
       "        text-align: right;\n",
       "    }\n",
       "</style>\n",
       "<table border=\"1\" class=\"dataframe\">\n",
       "  <thead>\n",
       "    <tr style=\"text-align: right;\">\n",
       "      <th></th>\n",
       "      <th>authors</th>\n",
       "      <th>category</th>\n",
       "      <th>date</th>\n",
       "      <th>headline</th>\n",
       "      <th>link</th>\n",
       "      <th>short_description</th>\n",
       "    </tr>\n",
       "  </thead>\n",
       "  <tbody>\n",
       "    <tr>\n",
       "      <th>0</th>\n",
       "      <td>Melissa Jeltsen</td>\n",
       "      <td>CRIME</td>\n",
       "      <td>2018-05-26</td>\n",
       "      <td>There Were 2 Mass Shootings In Texas Last Week...</td>\n",
       "      <td>https://www.huffingtonpost.com/entry/texas-ama...</td>\n",
       "      <td>She left her husband. He killed their children...</td>\n",
       "    </tr>\n",
       "    <tr>\n",
       "      <th>1</th>\n",
       "      <td>Andy McDonald</td>\n",
       "      <td>ENTERTAINMENT</td>\n",
       "      <td>2018-05-26</td>\n",
       "      <td>Will Smith Joins Diplo And Nicky Jam For The 2...</td>\n",
       "      <td>https://www.huffingtonpost.com/entry/will-smit...</td>\n",
       "      <td>Of course it has a song.</td>\n",
       "    </tr>\n",
       "    <tr>\n",
       "      <th>2</th>\n",
       "      <td>Ron Dicker</td>\n",
       "      <td>ENTERTAINMENT</td>\n",
       "      <td>2018-05-26</td>\n",
       "      <td>Hugh Grant Marries For The First Time At Age 57</td>\n",
       "      <td>https://www.huffingtonpost.com/entry/hugh-gran...</td>\n",
       "      <td>The actor and his longtime girlfriend Anna Ebe...</td>\n",
       "    </tr>\n",
       "    <tr>\n",
       "      <th>3</th>\n",
       "      <td>Ron Dicker</td>\n",
       "      <td>ENTERTAINMENT</td>\n",
       "      <td>2018-05-26</td>\n",
       "      <td>Jim Carrey Blasts 'Castrato' Adam Schiff And D...</td>\n",
       "      <td>https://www.huffingtonpost.com/entry/jim-carre...</td>\n",
       "      <td>The actor gives Dems an ass-kicking for not fi...</td>\n",
       "    </tr>\n",
       "    <tr>\n",
       "      <th>4</th>\n",
       "      <td>Ron Dicker</td>\n",
       "      <td>ENTERTAINMENT</td>\n",
       "      <td>2018-05-26</td>\n",
       "      <td>Julianna Margulies Uses Donald Trump Poop Bags...</td>\n",
       "      <td>https://www.huffingtonpost.com/entry/julianna-...</td>\n",
       "      <td>The \"Dietland\" actress said using the bags is ...</td>\n",
       "    </tr>\n",
       "  </tbody>\n",
       "</table>\n",
       "</div>"
      ],
      "text/plain": [
       "           authors  ...                                  short_description\n",
       "0  Melissa Jeltsen  ...  She left her husband. He killed their children...\n",
       "1    Andy McDonald  ...                           Of course it has a song.\n",
       "2       Ron Dicker  ...  The actor and his longtime girlfriend Anna Ebe...\n",
       "3       Ron Dicker  ...  The actor gives Dems an ass-kicking for not fi...\n",
       "4       Ron Dicker  ...  The \"Dietland\" actress said using the bags is ...\n",
       "\n",
       "[5 rows x 6 columns]"
      ]
     },
     "execution_count": 9,
     "metadata": {
      "tags": []
     },
     "output_type": "execute_result"
    }
   ],
   "source": [
    "# Import the data as a pandas dataframe\n",
    "news_data = pd.read_json('News_Category_Dataset_v2.json',lines=True)\n",
    "news_data.head(5)"
   ]
  },
  {
   "cell_type": "markdown",
   "metadata": {},
   "source": [
    "### Exploring the data\n",
    "After loading the .json document as a pandas dataframe we check the dataframe for null values. We can see that the dataframe has 6 columns.\n",
    "1. Author - Author of the news article.\n",
    "2. Category - Category of the news article. In all there are 41 categories, we merge 2 categories - 'WORLDPOST' and 'WORLD NEWS' because of the similarity of the articles resulting in 40 categories.\n",
    "3. Date - Date the article was published.\n",
    "4. Headline - The headline of the news article.\n",
    "5. Link - The link to the article.\n",
    "6. Short_Description - A short description of the news\n",
    "\n",
    "We use the headlines + short_description as our text corpus for training our skip-gram model."
   ]
  },
  {
   "cell_type": "code",
   "execution_count": 0,
   "metadata": {
    "colab": {
     "base_uri": "https://localhost:8080/",
     "height": 136
    },
    "colab_type": "code",
    "id": "D-_2aNZuLltB",
    "outputId": "c8b6bd57-2099-449a-b786-f258f3541413",
    "scrolled": true
   },
   "outputs": [
    {
     "data": {
      "text/plain": [
       "authors              0\n",
       "category             0\n",
       "date                 0\n",
       "headline             0\n",
       "link                 0\n",
       "short_description    0\n",
       "dtype: int64"
      ]
     },
     "execution_count": 10,
     "metadata": {
      "tags": []
     },
     "output_type": "execute_result"
    }
   ],
   "source": [
    "# Check for null values\n",
    "news_data.isnull().sum()"
   ]
  },
  {
   "cell_type": "code",
   "execution_count": 0,
   "metadata": {
    "colab": {
     "base_uri": "https://localhost:8080/",
     "height": 731
    },
    "colab_type": "code",
    "id": "xbRjksmQLhM2",
    "outputId": "3be5a30e-2a64-4036-f2aa-3165a38b26f9"
   },
   "outputs": [
    {
     "data": {
      "text/plain": [
       "POLITICS          32739\n",
       "WELLNESS          17827\n",
       "ENTERTAINMENT     16058\n",
       "TRAVEL             9887\n",
       "STYLE & BEAUTY     9649\n",
       "PARENTING          8677\n",
       "HEALTHY LIVING     6694\n",
       "QUEER VOICES       6314\n",
       "FOOD & DRINK       6226\n",
       "BUSINESS           5937\n",
       "COMEDY             5175\n",
       "SPORTS             4884\n",
       "BLACK VOICES       4528\n",
       "HOME & LIVING      4195\n",
       "PARENTS            3955\n",
       "THE WORLDPOST      3664\n",
       "WEDDINGS           3651\n",
       "WOMEN              3490\n",
       "IMPACT             3459\n",
       "DIVORCE            3426\n",
       "CRIME              3405\n",
       "MEDIA              2815\n",
       "WEIRD NEWS         2670\n",
       "GREEN              2622\n",
       "WORLDPOST          2579\n",
       "RELIGION           2556\n",
       "STYLE              2254\n",
       "SCIENCE            2178\n",
       "WORLD NEWS         2177\n",
       "TASTE              2096\n",
       "TECH               2082\n",
       "MONEY              1707\n",
       "ARTS               1509\n",
       "FIFTY              1401\n",
       "GOOD NEWS          1398\n",
       "ARTS & CULTURE     1339\n",
       "ENVIRONMENT        1323\n",
       "COLLEGE            1144\n",
       "LATINO VOICES      1129\n",
       "CULTURE & ARTS     1030\n",
       "EDUCATION          1004\n",
       "Name: category, dtype: int64"
      ]
     },
     "execution_count": 11,
     "metadata": {
      "tags": []
     },
     "output_type": "execute_result"
    }
   ],
   "source": [
    "# Check the category numbers\n",
    "news_data['category'].value_counts()"
   ]
  },
  {
   "cell_type": "code",
   "execution_count": 0,
   "metadata": {
    "colab": {
     "base_uri": "https://localhost:8080/",
     "height": 3618
    },
    "colab_type": "code",
    "id": "MmG0_EqqML4w",
    "outputId": "5843236e-7a2c-46ce-eef5-62827ad65d90"
   },
   "outputs": [
    {
     "data": {
      "text/html": [
       "<div>\n",
       "<style scoped>\n",
       "    .dataframe tbody tr th:only-of-type {\n",
       "        vertical-align: middle;\n",
       "    }\n",
       "\n",
       "    .dataframe tbody tr th {\n",
       "        vertical-align: top;\n",
       "    }\n",
       "\n",
       "    .dataframe thead th {\n",
       "        text-align: right;\n",
       "    }\n",
       "</style>\n",
       "<table border=\"1\" class=\"dataframe\">\n",
       "  <thead>\n",
       "    <tr style=\"text-align: right;\">\n",
       "      <th></th>\n",
       "      <th>authors</th>\n",
       "      <th>category</th>\n",
       "      <th>date</th>\n",
       "      <th>headline</th>\n",
       "      <th>link</th>\n",
       "      <th>short_description</th>\n",
       "    </tr>\n",
       "  </thead>\n",
       "  <tbody>\n",
       "    <tr>\n",
       "      <th>11</th>\n",
       "      <td></td>\n",
       "      <td>WORLD NEWS</td>\n",
       "      <td>2018-05-26</td>\n",
       "      <td>South Korean President Meets North Korea's Kim...</td>\n",
       "      <td>https://www.huffingtonpost.com/entry/south-kor...</td>\n",
       "      <td>The two met to pave the way for a summit betwe...</td>\n",
       "    </tr>\n",
       "    <tr>\n",
       "      <th>23</th>\n",
       "      <td>Josh Smith and Christine Kim, Reuters</td>\n",
       "      <td>WORLD NEWS</td>\n",
       "      <td>2018-05-25</td>\n",
       "      <td>North Korea Still Open To Talks After Trump Ca...</td>\n",
       "      <td>https://www.huffingtonpost.com/entry/north-kor...</td>\n",
       "      <td>Trump’s announcement came after repeated threa...</td>\n",
       "    </tr>\n",
       "    <tr>\n",
       "      <th>24</th>\n",
       "      <td></td>\n",
       "      <td>WORLD NEWS</td>\n",
       "      <td>2018-05-25</td>\n",
       "      <td>2 Men Detonate Bomb Inside Indian Restaurant N...</td>\n",
       "      <td>https://www.huffingtonpost.com/entry/mississau...</td>\n",
       "      <td>Fifteen people were taken to the hospital, thr...</td>\n",
       "    </tr>\n",
       "    <tr>\n",
       "      <th>25</th>\n",
       "      <td>Antonia Blumberg</td>\n",
       "      <td>WORLD NEWS</td>\n",
       "      <td>2018-05-25</td>\n",
       "      <td>Thousands Travel Home To Ireland To Vote On Ab...</td>\n",
       "      <td>https://www.huffingtonpost.com/entry/irish-tra...</td>\n",
       "      <td>Just try to read these #HomeToVote tweets with...</td>\n",
       "    </tr>\n",
       "    <tr>\n",
       "      <th>26</th>\n",
       "      <td></td>\n",
       "      <td>WORLD NEWS</td>\n",
       "      <td>2018-05-25</td>\n",
       "      <td>Irish Voters Set To Liberalize Abortion Laws I...</td>\n",
       "      <td>https://www.huffingtonpost.com/entry/ireland-a...</td>\n",
       "      <td>Vote counting will begin Saturday.</td>\n",
       "    </tr>\n",
       "    <tr>\n",
       "      <th>57</th>\n",
       "      <td>Roberta Rampton and Christine Kim, Reuters</td>\n",
       "      <td>WORLD NEWS</td>\n",
       "      <td>2018-05-25</td>\n",
       "      <td>Trump Suggests North Korea Summit Could Still ...</td>\n",
       "      <td>https://www.huffingtonpost.com/entry/trump-nor...</td>\n",
       "      <td>He had canceled the planned June 12 summit les...</td>\n",
       "    </tr>\n",
       "    <tr>\n",
       "      <th>73</th>\n",
       "      <td>Dominique Mosbergen</td>\n",
       "      <td>WORLD NEWS</td>\n",
       "      <td>2018-05-24</td>\n",
       "      <td>North Korea Threatens Again To Call Off Trump ...</td>\n",
       "      <td>https://www.huffingtonpost.com/entry/north-kor...</td>\n",
       "      <td>A top Pyongyang official lambasted \"political ...</td>\n",
       "    </tr>\n",
       "    <tr>\n",
       "      <th>74</th>\n",
       "      <td>Anthony Deutsch, Reuters</td>\n",
       "      <td>WORLD NEWS</td>\n",
       "      <td>2018-05-24</td>\n",
       "      <td>Investigation Finds Russian Missile Shot Down ...</td>\n",
       "      <td>https://www.huffingtonpost.com/entry/mh17-hit-...</td>\n",
       "      <td>It's not clear who was operating the missile t...</td>\n",
       "    </tr>\n",
       "    <tr>\n",
       "      <th>75</th>\n",
       "      <td></td>\n",
       "      <td>WORLD NEWS</td>\n",
       "      <td>2018-05-24</td>\n",
       "      <td>North Korea Demolishes Tunnels At Nuclear Test...</td>\n",
       "      <td>https://www.huffingtonpost.com/entry/north-kor...</td>\n",
       "      <td>North Korea has conducted all six of its nucle...</td>\n",
       "    </tr>\n",
       "    <tr>\n",
       "      <th>76</th>\n",
       "      <td>Jesselyn Cook and Nick Robins-Early</td>\n",
       "      <td>WORLD NEWS</td>\n",
       "      <td>2018-05-24</td>\n",
       "      <td>How Kim Jong Un ‘Baited’ Trump Into Canceling ...</td>\n",
       "      <td>https://www.huffingtonpost.com/entry/trump-nor...</td>\n",
       "      <td>Trump’s slapdash attempt at negotiations has l...</td>\n",
       "    </tr>\n",
       "    <tr>\n",
       "      <th>120</th>\n",
       "      <td>Willa Frej</td>\n",
       "      <td>WORLD NEWS</td>\n",
       "      <td>2018-05-24</td>\n",
       "      <td>South Korea Responds To Trump's Sudden Cancell...</td>\n",
       "      <td>https://www.huffingtonpost.com/entry/south-kor...</td>\n",
       "      <td>\"We are attempting to make sense of what, prec...</td>\n",
       "    </tr>\n",
       "    <tr>\n",
       "      <th>143</th>\n",
       "      <td>Nick Robins-Early</td>\n",
       "      <td>WORLD NEWS</td>\n",
       "      <td>2018-05-23</td>\n",
       "      <td>Trump And The American Far Right Stoke Hate In...</td>\n",
       "      <td>https://www.huffingtonpost.com/entry/canada-fa...</td>\n",
       "      <td>Hate crimes have increased, extremist groups a...</td>\n",
       "    </tr>\n",
       "    <tr>\n",
       "      <th>144</th>\n",
       "      <td>Nick Robins-Early</td>\n",
       "      <td>WORLD NEWS</td>\n",
       "      <td>2018-05-23</td>\n",
       "      <td>Far-Right And Anti-Establishment Parties Set T...</td>\n",
       "      <td>https://www.huffingtonpost.com/entry/far-right...</td>\n",
       "      <td>Italy is on track to have one of the most radi...</td>\n",
       "    </tr>\n",
       "    <tr>\n",
       "      <th>162</th>\n",
       "      <td>Jenna Amatulli</td>\n",
       "      <td>WORLD NEWS</td>\n",
       "      <td>2018-05-23</td>\n",
       "      <td>Survivor Of Rwandan Genocide To Be Country's F...</td>\n",
       "      <td>https://www.huffingtonpost.com/entry/survivor-...</td>\n",
       "      <td>Dr. Claire Karekezi says the genocide is what ...</td>\n",
       "    </tr>\n",
       "    <tr>\n",
       "      <th>209</th>\n",
       "      <td>Willa Frej</td>\n",
       "      <td>WORLD NEWS</td>\n",
       "      <td>2018-05-22</td>\n",
       "      <td>Australian Archbishop Convicted Of Covering Up...</td>\n",
       "      <td>https://www.huffingtonpost.com/entry/archbisho...</td>\n",
       "      <td>Archbishop Philip Wilson knew about the abuse ...</td>\n",
       "    </tr>\n",
       "    <tr>\n",
       "      <th>210</th>\n",
       "      <td></td>\n",
       "      <td>WORLD NEWS</td>\n",
       "      <td>2018-05-22</td>\n",
       "      <td>Commander Says Iran’s People Will Respond To P...</td>\n",
       "      <td>https://www.huffingtonpost.com/entry/iran-comm...</td>\n",
       "      <td>A senior Iranian military commander poured sco...</td>\n",
       "    </tr>\n",
       "    <tr>\n",
       "      <th>211</th>\n",
       "      <td>Ryan Grenoble</td>\n",
       "      <td>WORLD NEWS</td>\n",
       "      <td>2018-05-22</td>\n",
       "      <td>Mark Zuckerberg Extends Facebook Apology Tour ...</td>\n",
       "      <td>https://www.huffingtonpost.com/entry/mark-zuck...</td>\n",
       "      <td>He was warned he might be \"the genius that cre...</td>\n",
       "    </tr>\n",
       "    <tr>\n",
       "      <th>276</th>\n",
       "      <td>Luc Cohen and Andreina Aponte, Reuters</td>\n",
       "      <td>WORLD NEWS</td>\n",
       "      <td>2018-05-21</td>\n",
       "      <td>Venezuela's Socialist Leader Nicolas Maduro Re...</td>\n",
       "      <td>https://www.huffingtonpost.com/entry/venezuela...</td>\n",
       "      <td>The State Department has already announced tha...</td>\n",
       "    </tr>\n",
       "    <tr>\n",
       "      <th>277</th>\n",
       "      <td>Alissa de Carbonnel, Reuters</td>\n",
       "      <td>WORLD NEWS</td>\n",
       "      <td>2018-05-21</td>\n",
       "      <td>Iran Says Europe's Support For Nuclear Deal Is...</td>\n",
       "      <td>https://www.huffingtonpost.com/entry/iran-euro...</td>\n",
       "      <td>“We have to preserve this agreement so we don’...</td>\n",
       "    </tr>\n",
       "    <tr>\n",
       "      <th>278</th>\n",
       "      <td>Nick Robins-Early</td>\n",
       "      <td>WORLD NEWS</td>\n",
       "      <td>2018-05-21</td>\n",
       "      <td>Far-Right Mob Attacks 75-Year-Old Liberal Gree...</td>\n",
       "      <td>https://www.huffingtonpost.com/entry/greek-far...</td>\n",
       "      <td>\"It was organized fascists who attacked me as ...</td>\n",
       "    </tr>\n",
       "    <tr>\n",
       "      <th>326</th>\n",
       "      <td>Nelson Acosta and Sarah Marsh, Reuters</td>\n",
       "      <td>WORLD NEWS</td>\n",
       "      <td>2018-05-20</td>\n",
       "      <td>Cuba Confirms 110 Killed In Country's Deadlies...</td>\n",
       "      <td>https://www.huffingtonpost.com/entry/cuba-plan...</td>\n",
       "      <td>The three Cuban women who survived the crash w...</td>\n",
       "    </tr>\n",
       "    <tr>\n",
       "      <th>369</th>\n",
       "      <td></td>\n",
       "      <td>WORLD NEWS</td>\n",
       "      <td>2018-05-18</td>\n",
       "      <td>Ex-Russian Spy Sergei Skripal Discharged From ...</td>\n",
       "      <td>https://www.huffingtonpost.com/entry/sergei-sk...</td>\n",
       "      <td>Britain has accused Russia of being behind the...</td>\n",
       "    </tr>\n",
       "    <tr>\n",
       "      <th>370</th>\n",
       "      <td>Nick Robins-Early</td>\n",
       "      <td>WORLD NEWS</td>\n",
       "      <td>2018-05-18</td>\n",
       "      <td>Cuba Plane Crash Reportedly Kills Over 100</td>\n",
       "      <td>https://www.huffingtonpost.com/entry/cuba-plan...</td>\n",
       "      <td>The plane went down shortly after takeoff from...</td>\n",
       "    </tr>\n",
       "    <tr>\n",
       "      <th>371</th>\n",
       "      <td>Mary Papenfuss</td>\n",
       "      <td>WORLD NEWS</td>\n",
       "      <td>2018-05-18</td>\n",
       "      <td>Trump Reassures North Korea, But Threatens 'To...</td>\n",
       "      <td>https://www.huffingtonpost.com/entry/trump-rea...</td>\n",
       "      <td>The president assured Kim Jong Un he can stay ...</td>\n",
       "    </tr>\n",
       "    <tr>\n",
       "      <th>430</th>\n",
       "      <td>Nick Robins-Early</td>\n",
       "      <td>WORLD NEWS</td>\n",
       "      <td>2018-05-17</td>\n",
       "      <td>Italy Looks To Befriend Russia As Populist Par...</td>\n",
       "      <td>https://www.huffingtonpost.com/entry/italy-dra...</td>\n",
       "      <td>HuffPost Italia obtained a document that shows...</td>\n",
       "    </tr>\n",
       "    <tr>\n",
       "      <th>487</th>\n",
       "      <td>Dominique Mosbergen</td>\n",
       "      <td>WORLD NEWS</td>\n",
       "      <td>2018-05-16</td>\n",
       "      <td>North Korea Threatens To 'Reconsider' Trump Su...</td>\n",
       "      <td>https://www.huffingtonpost.com/entry/north-kor...</td>\n",
       "      <td>Pyongyang condemned recent joint military exer...</td>\n",
       "    </tr>\n",
       "    <tr>\n",
       "      <th>488</th>\n",
       "      <td>Willa Frej</td>\n",
       "      <td>WORLD NEWS</td>\n",
       "      <td>2018-05-16</td>\n",
       "      <td>Chemical Weapons Likely Used In Syria, Watchdo...</td>\n",
       "      <td>https://www.huffingtonpost.com/entry/syria-lik...</td>\n",
       "      <td>The attack in February left 11 people in need ...</td>\n",
       "    </tr>\n",
       "    <tr>\n",
       "      <th>489</th>\n",
       "      <td>Sarah Ruiz-Grossman</td>\n",
       "      <td>WORLD NEWS</td>\n",
       "      <td>2018-05-16</td>\n",
       "      <td>Hundreds In Israel And Beyond Protest Killings...</td>\n",
       "      <td>https://www.huffingtonpost.com/entry/hundreds-...</td>\n",
       "      <td>Israeli military forces killed some 60 Palesti...</td>\n",
       "    </tr>\n",
       "    <tr>\n",
       "      <th>490</th>\n",
       "      <td>Nina Golgowski</td>\n",
       "      <td>WORLD NEWS</td>\n",
       "      <td>2018-05-16</td>\n",
       "      <td>Researchers Uncover Secret Pages In Diary Of A...</td>\n",
       "      <td>https://www.huffingtonpost.com/entry/anne-fran...</td>\n",
       "      <td>The entry, concealed by pasted brown paper, me...</td>\n",
       "    </tr>\n",
       "    <tr>\n",
       "      <th>558</th>\n",
       "      <td>Ahmed Aboulenein and Maher Chmaytelli, Reuters</td>\n",
       "      <td>WORLD NEWS</td>\n",
       "      <td>2018-05-15</td>\n",
       "      <td>Populist Cleric Muqtada al-Sadr Likely To Win ...</td>\n",
       "      <td>https://www.huffingtonpost.com/entry/moqtada-a...</td>\n",
       "      <td>Sadr has led two uprisings against U.S. forces...</td>\n",
       "    </tr>\n",
       "    <tr>\n",
       "      <th>...</th>\n",
       "      <td>...</td>\n",
       "      <td>...</td>\n",
       "      <td>...</td>\n",
       "      <td>...</td>\n",
       "      <td>...</td>\n",
       "      <td>...</td>\n",
       "    </tr>\n",
       "    <tr>\n",
       "      <th>124472</th>\n",
       "      <td>Susan Hammond, ContributorExecutive Director, ...</td>\n",
       "      <td>WORLDPOST</td>\n",
       "      <td>2014-04-24</td>\n",
       "      <td>Agent Orange: Helping Vietnam Heal</td>\n",
       "      <td>https://www.huffingtonpost.com/entry/agent-ora...</td>\n",
       "      <td>More than 12 million gallons of herbicides con...</td>\n",
       "    </tr>\n",
       "    <tr>\n",
       "      <th>124487</th>\n",
       "      <td>James Dorsey, ContributorSenior fellow, S. Raj...</td>\n",
       "      <td>WORLDPOST</td>\n",
       "      <td>2014-04-24</td>\n",
       "      <td>World Cup Sparks Change as Soccer Puts Chink i...</td>\n",
       "      <td>https://www.huffingtonpost.com/entry/world-cup...</td>\n",
       "      <td>Qatar is employing soccer to put a significant...</td>\n",
       "    </tr>\n",
       "    <tr>\n",
       "      <th>124571</th>\n",
       "      <td>Kira Brekke</td>\n",
       "      <td>WORLDPOST</td>\n",
       "      <td>2014-04-23</td>\n",
       "      <td>What Syrian Child Refugees 'Working The Street...</td>\n",
       "      <td>https://www.huffingtonpost.com/entry/syrian-ch...</td>\n",
       "      <td></td>\n",
       "    </tr>\n",
       "    <tr>\n",
       "      <th>124599</th>\n",
       "      <td>Nathan Gardels, ContributorEditor-in-chief, Th...</td>\n",
       "      <td>WORLDPOST</td>\n",
       "      <td>2014-04-22</td>\n",
       "      <td>Obama's Asian Pivot: A WorldPost Review</td>\n",
       "      <td>https://www.huffingtonpost.com/entry/obamas-as...</td>\n",
       "      <td>This week, U.S. President Barack Obama is visi...</td>\n",
       "    </tr>\n",
       "    <tr>\n",
       "      <th>124607</th>\n",
       "      <td>Charlotte Alfred</td>\n",
       "      <td>WORLDPOST</td>\n",
       "      <td>2014-04-22</td>\n",
       "      <td>These Were The First Photos To Show America's ...</td>\n",
       "      <td>https://www.huffingtonpost.com/entry/north-ame...</td>\n",
       "      <td></td>\n",
       "    </tr>\n",
       "    <tr>\n",
       "      <th>124717</th>\n",
       "      <td></td>\n",
       "      <td>WORLDPOST</td>\n",
       "      <td>2014-04-21</td>\n",
       "      <td>What We Left Behind In Iraq</td>\n",
       "      <td>https://www.huffingtonpost.com/entry/dexter-fi...</td>\n",
       "      <td></td>\n",
       "    </tr>\n",
       "    <tr>\n",
       "      <th>124740</th>\n",
       "      <td></td>\n",
       "      <td>WORLDPOST</td>\n",
       "      <td>2014-04-21</td>\n",
       "      <td>Syria Calls Presidential Vote Amid Raging War</td>\n",
       "      <td>https://www.huffingtonpost.com/entry/syria-pre...</td>\n",
       "      <td></td>\n",
       "    </tr>\n",
       "    <tr>\n",
       "      <th>124769</th>\n",
       "      <td></td>\n",
       "      <td>WORLDPOST</td>\n",
       "      <td>2014-04-20</td>\n",
       "      <td>Air Strike Kills Dozens Of Suspected Al Qaeda ...</td>\n",
       "      <td>https://www.huffingtonpost.com/entry/new-air-s...</td>\n",
       "      <td></td>\n",
       "    </tr>\n",
       "    <tr>\n",
       "      <th>124787</th>\n",
       "      <td></td>\n",
       "      <td>WORLDPOST</td>\n",
       "      <td>2014-04-20</td>\n",
       "      <td>Egypt Announces Candidates For Country's Presi...</td>\n",
       "      <td>https://www.huffingtonpost.com/entry/former-ar...</td>\n",
       "      <td></td>\n",
       "    </tr>\n",
       "    <tr>\n",
       "      <th>124798</th>\n",
       "      <td></td>\n",
       "      <td>WORLDPOST</td>\n",
       "      <td>2014-04-20</td>\n",
       "      <td>Malfunctioning Malaysia Airlines Plane Makes E...</td>\n",
       "      <td>https://www.huffingtonpost.com/entry/malaysia-...</td>\n",
       "      <td></td>\n",
       "    </tr>\n",
       "    <tr>\n",
       "      <th>124805</th>\n",
       "      <td>Joseph Braude, ContributorAuthor, broadcaster,...</td>\n",
       "      <td>WORLDPOST</td>\n",
       "      <td>2014-04-20</td>\n",
       "      <td>A Saudi Psychologist on Jihadism, Clerical Eli...</td>\n",
       "      <td>https://www.huffingtonpost.com/entry/a-saudi-p...</td>\n",
       "      <td>Clinical psychologist Abdullah al-Garni serves...</td>\n",
       "    </tr>\n",
       "    <tr>\n",
       "      <th>124810</th>\n",
       "      <td></td>\n",
       "      <td>WORLDPOST</td>\n",
       "      <td>2014-04-20</td>\n",
       "      <td>Is This Afghanistan's Next President?</td>\n",
       "      <td>https://www.huffingtonpost.com/entry/abdullah-...</td>\n",
       "      <td></td>\n",
       "    </tr>\n",
       "    <tr>\n",
       "      <th>124812</th>\n",
       "      <td></td>\n",
       "      <td>WORLDPOST</td>\n",
       "      <td>2014-04-20</td>\n",
       "      <td>Ukraine Forces Accuse Russia Of Staging Shooting</td>\n",
       "      <td>https://www.huffingtonpost.com/entry/ukraine-f...</td>\n",
       "      <td></td>\n",
       "    </tr>\n",
       "    <tr>\n",
       "      <th>124813</th>\n",
       "      <td>Alana Horowitz Satlin</td>\n",
       "      <td>WORLDPOST</td>\n",
       "      <td>2014-04-20</td>\n",
       "      <td>Russian Politician Bullies Female Journalists</td>\n",
       "      <td>https://www.huffingtonpost.com/entry/russia-jo...</td>\n",
       "      <td></td>\n",
       "    </tr>\n",
       "    <tr>\n",
       "      <th>124819</th>\n",
       "      <td>Yoani Sanchez, ContributorPublisher of 14ymedi...</td>\n",
       "      <td>WORLDPOST</td>\n",
       "      <td>2014-04-20</td>\n",
       "      <td>Cuba's Culture of Violence: A Dangerous Spiral</td>\n",
       "      <td>https://www.huffingtonpost.com/entry/cubas-cul...</td>\n",
       "      <td>A woman hits a child, who appears to be her so...</td>\n",
       "    </tr>\n",
       "    <tr>\n",
       "      <th>124824</th>\n",
       "      <td></td>\n",
       "      <td>WORLDPOST</td>\n",
       "      <td>2014-04-20</td>\n",
       "      <td>Malaysia Airlines Plane To Make Emergency Landing</td>\n",
       "      <td>https://www.huffingtonpost.com/entry/malaysia-...</td>\n",
       "      <td></td>\n",
       "    </tr>\n",
       "    <tr>\n",
       "      <th>124838</th>\n",
       "      <td></td>\n",
       "      <td>WORLDPOST</td>\n",
       "      <td>2014-04-19</td>\n",
       "      <td>Ukraine Calls Easter Truce</td>\n",
       "      <td>https://www.huffingtonpost.com/entry/ukraine-e...</td>\n",
       "      <td></td>\n",
       "    </tr>\n",
       "    <tr>\n",
       "      <th>124859</th>\n",
       "      <td>Evelyn Leopold, ContributorVeteran journalist ...</td>\n",
       "      <td>WORLDPOST</td>\n",
       "      <td>2014-04-19</td>\n",
       "      <td>Is Justice Possible for North Korea's Victims?</td>\n",
       "      <td>https://www.huffingtonpost.com/entry/is-justic...</td>\n",
       "      <td>What to do about torture, rape, political pris...</td>\n",
       "    </tr>\n",
       "    <tr>\n",
       "      <th>124864</th>\n",
       "      <td></td>\n",
       "      <td>WORLDPOST</td>\n",
       "      <td>2014-04-19</td>\n",
       "      <td>Kremlin: U.S. Treating Russia Like 'Guilty Sch...</td>\n",
       "      <td>https://www.huffingtonpost.com/entry/us-russia...</td>\n",
       "      <td></td>\n",
       "    </tr>\n",
       "    <tr>\n",
       "      <th>124874</th>\n",
       "      <td></td>\n",
       "      <td>WORLDPOST</td>\n",
       "      <td>2014-04-19</td>\n",
       "      <td>'80 Percent' Of Syria's Chemical Weapons Removed</td>\n",
       "      <td>https://www.huffingtonpost.com/entry/syria-che...</td>\n",
       "      <td></td>\n",
       "    </tr>\n",
       "    <tr>\n",
       "      <th>124888</th>\n",
       "      <td>Mehrnaz Samimi, ContributorIranian-American jo...</td>\n",
       "      <td>WORLDPOST</td>\n",
       "      <td>2014-04-19</td>\n",
       "      <td>Social Media Helps Young Iranian Fashion Desig...</td>\n",
       "      <td>https://www.huffingtonpost.com/entry/social-me...</td>\n",
       "      <td></td>\n",
       "    </tr>\n",
       "    <tr>\n",
       "      <th>124891</th>\n",
       "      <td></td>\n",
       "      <td>WORLDPOST</td>\n",
       "      <td>2014-04-19</td>\n",
       "      <td>Seabed Search For MH370 Could End Within A Week</td>\n",
       "      <td>https://www.huffingtonpost.com/entry/malaysia-...</td>\n",
       "      <td></td>\n",
       "    </tr>\n",
       "    <tr>\n",
       "      <th>124917</th>\n",
       "      <td>Daniel R. DePetris, ContributorNational Securi...</td>\n",
       "      <td>WORLDPOST</td>\n",
       "      <td>2014-04-18</td>\n",
       "      <td>Assad and His Friends Brag About Winning</td>\n",
       "      <td>https://www.huffingtonpost.com/entry/assad-and...</td>\n",
       "      <td>The Obama administration's entire Syria policy...</td>\n",
       "    </tr>\n",
       "    <tr>\n",
       "      <th>124939</th>\n",
       "      <td></td>\n",
       "      <td>WORLDPOST</td>\n",
       "      <td>2014-04-18</td>\n",
       "      <td>'They Must Be So Cold And Scared, Deep Underwa...</td>\n",
       "      <td>https://www.huffingtonpost.com/entry/south-kor...</td>\n",
       "      <td></td>\n",
       "    </tr>\n",
       "    <tr>\n",
       "      <th>124940</th>\n",
       "      <td></td>\n",
       "      <td>WORLDPOST</td>\n",
       "      <td>2014-04-18</td>\n",
       "      <td>Japan's New Move May Infuriate China</td>\n",
       "      <td>https://www.huffingtonpost.com/entry/japan-yon...</td>\n",
       "      <td></td>\n",
       "    </tr>\n",
       "    <tr>\n",
       "      <th>124941</th>\n",
       "      <td>Raghida Dergham, ContributorColumnist and Seni...</td>\n",
       "      <td>WORLDPOST</td>\n",
       "      <td>2014-04-18</td>\n",
       "      <td>The Battle of Identities and Presidential Elec...</td>\n",
       "      <td>https://www.huffingtonpost.com/entry/the-battl...</td>\n",
       "      <td></td>\n",
       "    </tr>\n",
       "    <tr>\n",
       "      <th>124942</th>\n",
       "      <td></td>\n",
       "      <td>WORLDPOST</td>\n",
       "      <td>2014-04-18</td>\n",
       "      <td>Pro-Russia Separatists Stay Put Despite Geneva...</td>\n",
       "      <td>https://www.huffingtonpost.com/entry/ukraine-s...</td>\n",
       "      <td></td>\n",
       "    </tr>\n",
       "    <tr>\n",
       "      <th>124943</th>\n",
       "      <td>Ziad J. Asali, M.D., ContributorPresident, Ame...</td>\n",
       "      <td>WORLDPOST</td>\n",
       "      <td>2014-04-18</td>\n",
       "      <td>Men Must Play Their Part in the Battle for Ara...</td>\n",
       "      <td>https://www.huffingtonpost.com/entry/men-must-...</td>\n",
       "      <td>The culture that marginalizes women is largely...</td>\n",
       "    </tr>\n",
       "    <tr>\n",
       "      <th>124968</th>\n",
       "      <td>Sergio Muñoz Bata, ContributorSyndicated Latin...</td>\n",
       "      <td>WORLDPOST</td>\n",
       "      <td>2014-04-18</td>\n",
       "      <td>Adios, Gabo</td>\n",
       "      <td>https://www.huffingtonpost.com/entry/gabriel-g...</td>\n",
       "      <td>When a friend dies, you are left with deep pai...</td>\n",
       "    </tr>\n",
       "    <tr>\n",
       "      <th>124973</th>\n",
       "      <td></td>\n",
       "      <td>WORLDPOST</td>\n",
       "      <td>2014-04-18</td>\n",
       "      <td>Investigator: Captain Not At Helm When Ferry C...</td>\n",
       "      <td>https://www.huffingtonpost.com/entry/south-kor...</td>\n",
       "      <td></td>\n",
       "    </tr>\n",
       "  </tbody>\n",
       "</table>\n",
       "<p>4756 rows × 6 columns</p>\n",
       "</div>"
      ],
      "text/plain": [
       "                                                  authors  ...                                  short_description\n",
       "11                                                         ...  The two met to pave the way for a summit betwe...\n",
       "23                  Josh Smith and Christine Kim, Reuters  ...  Trump’s announcement came after repeated threa...\n",
       "24                                                         ...  Fifteen people were taken to the hospital, thr...\n",
       "25                                       Antonia Blumberg  ...  Just try to read these #HomeToVote tweets with...\n",
       "26                                                         ...                 Vote counting will begin Saturday.\n",
       "57             Roberta Rampton and Christine Kim, Reuters  ...  He had canceled the planned June 12 summit les...\n",
       "73                                    Dominique Mosbergen  ...  A top Pyongyang official lambasted \"political ...\n",
       "74                               Anthony Deutsch, Reuters  ...  It's not clear who was operating the missile t...\n",
       "75                                                         ...  North Korea has conducted all six of its nucle...\n",
       "76                    Jesselyn Cook and Nick Robins-Early  ...  Trump’s slapdash attempt at negotiations has l...\n",
       "120                                            Willa Frej  ...  \"We are attempting to make sense of what, prec...\n",
       "143                                     Nick Robins-Early  ...  Hate crimes have increased, extremist groups a...\n",
       "144                                     Nick Robins-Early  ...  Italy is on track to have one of the most radi...\n",
       "162                                        Jenna Amatulli  ...  Dr. Claire Karekezi says the genocide is what ...\n",
       "209                                            Willa Frej  ...  Archbishop Philip Wilson knew about the abuse ...\n",
       "210                                                        ...  A senior Iranian military commander poured sco...\n",
       "211                                         Ryan Grenoble  ...  He was warned he might be \"the genius that cre...\n",
       "276                Luc Cohen and Andreina Aponte, Reuters  ...  The State Department has already announced tha...\n",
       "277                          Alissa de Carbonnel, Reuters  ...  “We have to preserve this agreement so we don’...\n",
       "278                                     Nick Robins-Early  ...  \"It was organized fascists who attacked me as ...\n",
       "326                Nelson Acosta and Sarah Marsh, Reuters  ...  The three Cuban women who survived the crash w...\n",
       "369                                                        ...  Britain has accused Russia of being behind the...\n",
       "370                                     Nick Robins-Early  ...  The plane went down shortly after takeoff from...\n",
       "371                                        Mary Papenfuss  ...  The president assured Kim Jong Un he can stay ...\n",
       "430                                     Nick Robins-Early  ...  HuffPost Italia obtained a document that shows...\n",
       "487                                   Dominique Mosbergen  ...  Pyongyang condemned recent joint military exer...\n",
       "488                                            Willa Frej  ...  The attack in February left 11 people in need ...\n",
       "489                                   Sarah Ruiz-Grossman  ...  Israeli military forces killed some 60 Palesti...\n",
       "490                                        Nina Golgowski  ...  The entry, concealed by pasted brown paper, me...\n",
       "558        Ahmed Aboulenein and Maher Chmaytelli, Reuters  ...  Sadr has led two uprisings against U.S. forces...\n",
       "...                                                   ...  ...                                                ...\n",
       "124472  Susan Hammond, ContributorExecutive Director, ...  ...  More than 12 million gallons of herbicides con...\n",
       "124487  James Dorsey, ContributorSenior fellow, S. Raj...  ...  Qatar is employing soccer to put a significant...\n",
       "124571                                        Kira Brekke  ...                                                   \n",
       "124599  Nathan Gardels, ContributorEditor-in-chief, Th...  ...  This week, U.S. President Barack Obama is visi...\n",
       "124607                                   Charlotte Alfred  ...                                                   \n",
       "124717                                                     ...                                                   \n",
       "124740                                                     ...                                                   \n",
       "124769                                                     ...                                                   \n",
       "124787                                                     ...                                                   \n",
       "124798                                                     ...                                                   \n",
       "124805  Joseph Braude, ContributorAuthor, broadcaster,...  ...  Clinical psychologist Abdullah al-Garni serves...\n",
       "124810                                                     ...                                                   \n",
       "124812                                                     ...                                                   \n",
       "124813                              Alana Horowitz Satlin  ...                                                   \n",
       "124819  Yoani Sanchez, ContributorPublisher of 14ymedi...  ...  A woman hits a child, who appears to be her so...\n",
       "124824                                                     ...                                                   \n",
       "124838                                                     ...                                                   \n",
       "124859  Evelyn Leopold, ContributorVeteran journalist ...  ...  What to do about torture, rape, political pris...\n",
       "124864                                                     ...                                                   \n",
       "124874                                                     ...                                                   \n",
       "124888  Mehrnaz Samimi, ContributorIranian-American jo...  ...                                                   \n",
       "124891                                                     ...                                                   \n",
       "124917  Daniel R. DePetris, ContributorNational Securi...  ...  The Obama administration's entire Syria policy...\n",
       "124939                                                     ...                                                   \n",
       "124940                                                     ...                                                   \n",
       "124941  Raghida Dergham, ContributorColumnist and Seni...  ...                                                   \n",
       "124942                                                     ...                                                   \n",
       "124943  Ziad J. Asali, M.D., ContributorPresident, Ame...  ...  The culture that marginalizes women is largely...\n",
       "124968  Sergio Muñoz Bata, ContributorSyndicated Latin...  ...  When a friend dies, you are left with deep pai...\n",
       "124973                                                     ...                                                   \n",
       "\n",
       "[4756 rows x 6 columns]"
      ]
     },
     "execution_count": 12,
     "metadata": {
      "tags": []
     },
     "output_type": "execute_result"
    }
   ],
   "source": [
    "# How are the WORLDPOST and WORLDNEWS articles different\n",
    "news_data.loc[(news_data['category']=='WORLDPOST') | (news_data['category']=='WORLD NEWS'),]"
   ]
  },
  {
   "cell_type": "markdown",
   "metadata": {
    "colab_type": "text",
    "id": "VOk-P4gFNMlE"
   },
   "source": [
    "The WORLDPOST and the WORLD NEWS articles mostly appear to be same, therefore combining them into a category"
   ]
  },
  {
   "cell_type": "code",
   "execution_count": 0,
   "metadata": {
    "colab": {},
    "colab_type": "code",
    "id": "T58D0ttzNsF1"
   },
   "outputs": [],
   "source": [
    "# Merging the WORLDPOST and the WORLD NEWS categories\n",
    "def merge(category):\n",
    "  if category=='WORLDPOST':\n",
    "    return 'WORLD NEWS'\n",
    "  else:\n",
    "    return category\n",
    "\n",
    "news_data['category'] = news_data['category'].apply(merge)"
   ]
  },
  {
   "cell_type": "code",
   "execution_count": 0,
   "metadata": {
    "colab": {
     "base_uri": "https://localhost:8080/",
     "height": 714
    },
    "colab_type": "code",
    "id": "ixEgRYGnOlaP",
    "outputId": "961735ac-432c-4033-a598-43fce04aa87e",
    "scrolled": false
   },
   "outputs": [
    {
     "data": {
      "text/plain": [
       "POLITICS          32739\n",
       "WELLNESS          17827\n",
       "ENTERTAINMENT     16058\n",
       "TRAVEL             9887\n",
       "STYLE & BEAUTY     9649\n",
       "PARENTING          8677\n",
       "HEALTHY LIVING     6694\n",
       "QUEER VOICES       6314\n",
       "FOOD & DRINK       6226\n",
       "BUSINESS           5937\n",
       "COMEDY             5175\n",
       "SPORTS             4884\n",
       "WORLD NEWS         4756\n",
       "BLACK VOICES       4528\n",
       "HOME & LIVING      4195\n",
       "PARENTS            3955\n",
       "THE WORLDPOST      3664\n",
       "WEDDINGS           3651\n",
       "WOMEN              3490\n",
       "IMPACT             3459\n",
       "DIVORCE            3426\n",
       "CRIME              3405\n",
       "MEDIA              2815\n",
       "WEIRD NEWS         2670\n",
       "GREEN              2622\n",
       "RELIGION           2556\n",
       "STYLE              2254\n",
       "SCIENCE            2178\n",
       "TASTE              2096\n",
       "TECH               2082\n",
       "MONEY              1707\n",
       "ARTS               1509\n",
       "FIFTY              1401\n",
       "GOOD NEWS          1398\n",
       "ARTS & CULTURE     1339\n",
       "ENVIRONMENT        1323\n",
       "COLLEGE            1144\n",
       "LATINO VOICES      1129\n",
       "CULTURE & ARTS     1030\n",
       "EDUCATION          1004\n",
       "Name: category, dtype: int64"
      ]
     },
     "execution_count": 14,
     "metadata": {
      "tags": []
     },
     "output_type": "execute_result"
    }
   ],
   "source": [
    "# Check the category count again\n",
    "news_data['category'].value_counts()"
   ]
  },
  {
   "cell_type": "markdown",
   "metadata": {},
   "source": [
    "#### A pie chart to look at the proportion of different categories"
   ]
  },
  {
   "cell_type": "code",
   "execution_count": 0,
   "metadata": {
    "colab": {
     "base_uri": "https://localhost:8080/",
     "height": 594
    },
    "colab_type": "code",
    "id": "Lm0RepM4OwS5",
    "outputId": "ca256863-0175-47f0-be1b-f64cab17b087"
   },
   "outputs": [
    {
     "data": {
      "image/png": "[encoded data removed]",
      "text/plain": [
       "<Figure size 720x720 with 1 Axes>"
      ]
     },
     "metadata": {
      "tags": []
     },
     "output_type": "display_data"
    }
   ],
   "source": [
    "# Plot a pie chart\n",
    "plt.rcParams[\"figure.figsize\"] = (10,10)\n",
    "patches, texts, autotexts = plt.pie(x=news_data['category'].value_counts().values,labels=news_data['category'].value_counts().index,autopct='%1.1f%%')\n",
    "plt.setp(texts,size='x-small')\n",
    "plt.setp(autotexts,size='x-small')\n",
    "plt.title('Pie chart of the number of news articles per category')\n",
    "plt.show()"
   ]
  },
  {
   "cell_type": "markdown",
   "metadata": {
    "colab_type": "text",
    "id": "6Vlr2MzcRfxt"
   },
   "source": [
    "### Data pre-processing\n",
    "This is a very crucial step because the output of this step feeds into our skip-gram model for training and validation. This step has a number of substeps:\n",
    "1. <b>Get the text corpus</b> - In this step we aggregate the headlines and short descriptions to get the text corpus.\n",
    "2. <b>Train/valid corpus split</b> - In this step we segment our text corpus into training and validation sets which would be used to measure the performance of our skip-gram model.\n",
    "3. <b>Cleaning the corpus</b> - Here we use the nltk library to remove punctuation marks (',\",!) and stop words which are frequent words in language usage but have no inherent meaning like the, and, them etc.\n",
    "4. <b>Creating mapping and reverse mapping dictionaries</b> - This step is crucial, for training the model we need to convert the words into one-hot vectors i.e. for this we need to represent each unique word with a unique integer. For example let's assign the integer 2 to the word 'fire' and lets assume the total number of unique words in our text corpus is 10, then the one-hot encoding of the word fire would be [0,0,1,0,0,0,0,0,0,0]. We hence create the mapping dict which is a mapping from unique words -> unique integers which helps us to convert the words into their one-hot representations. Also we create a reverse mapping dictionart which is a inversion of the mapping dict and allows us to convert the one-hot vectors into words.\n",
    "5. <b>Translate the corpus</b> - Now as discussed in the previous point we use our mapping dict to convert our text corpus which is a series of words into a series of integers.\n",
    "6. <b>Remove low frequency words</b> - We remove words which have occurred less than 10 time in our dataset because we can't get enough contextual information for these words.\n",
    "7. <b>Generate skip-gram input, target pairs</b> - This step is quite detailed and explained below"
   ]
  },
  {
   "cell_type": "markdown",
   "metadata": {},
   "source": [
    "#### Generate skip-gram input,target pairs\n",
    "We’re going to train the neural network to do the following. Given a specific word in the middle of a sentence (the input word), look at the words nearby and pick one at random. The network is going to tell us the probability for every word in our vocabulary of being the “nearby word” that we chose.\n",
    "\n",
    "When I say \"nearby\", there is actually a \"window size\" parameter to the algorithm. A typical window size might be 5, meaning 5 words behind and 5 words ahead (10 in total).\n",
    "The output probabilities are going to relate to how likely it is find each vocabulary word nearby our input word. For example, if you gave the trained network the input word “Soviet”, the output probabilities are going to be much higher for words like “Union” and “Russia” than for unrelated words like “watermelon” and “kangaroo”.\n",
    "\n",
    "We’ll train the neural network to do this by feeding it word pairs found in our training documents. The below example shows some of the training samples (word pairs) we would take from the sentence “The quick brown fox jumps over the lazy dog.” I’ve used a small window size of 2 just for the example. The word highlighted in blue is the input word.\n",
    "\n",
    "Source - http://mccormickml.com/2016/04/19/word2vec-tutorial-the-skip-gram-model/"
   ]
  },
  {
   "cell_type": "code",
   "execution_count": 2,
   "metadata": {},
   "outputs": [
    {
     "data": {
      "text/html": [
       "<img src=\"http://mccormickml.com/assets/word2vec/training_data.png\"/>"
      ],
      "text/plain": [
       "<IPython.core.display.Image object>"
      ]
     },
     "execution_count": 2,
     "metadata": {},
     "output_type": "execute_result"
    }
   ],
   "source": [
    "# Example of the skip-gram word sampling\n",
    "from IPython.display import Image\n",
    "from IPython.core.display import HTML \n",
    "Image(url= \"http://mccormickml.com/assets/word2vec/training_data.png\")"
   ]
  },
  {
   "cell_type": "code",
   "execution_count": 0,
   "metadata": {
    "colab": {},
    "colab_type": "code",
    "id": "E0_dcMPHDUUS"
   },
   "outputs": [],
   "source": [
    "# Create a text column which contains the headline + the short description\n",
    "news_data['text'] = news_data['headline'] + \" \" + news_data['short_description']"
   ]
  },
  {
   "cell_type": "code",
   "execution_count": 0,
   "metadata": {
    "colab": {},
    "colab_type": "code",
    "id": "sIJj4GYdH1S-"
   },
   "outputs": [],
   "source": [
    "# Train test split\n",
    "from sklearn.model_selection import train_test_split\n",
    "train, valid = train_test_split(news_data, test_size=0.3,random_state=7)"
   ]
  },
  {
   "cell_type": "code",
   "execution_count": 0,
   "metadata": {
    "colab": {},
    "colab_type": "code",
    "id": "19D-EK2ZD0Av"
   },
   "outputs": [],
   "source": [
    "# Concatenate all the text to get a text corpus which is a list of sentences\n",
    "train_text_corpus = train['text'].values.tolist()\n",
    "valid_text_corpus = valid['text'].values.tolist()"
   ]
  },
  {
   "cell_type": "code",
   "execution_count": 0,
   "metadata": {
    "colab": {
     "base_uri": "https://localhost:8080/",
     "height": 136
    },
    "colab_type": "code",
    "id": "dPV1bEeUGLuE",
    "outputId": "533b0c1a-5019-4e04-d872-4f9c3ae0dba4"
   },
   "outputs": [
    {
     "name": "stdout",
     "output_type": "stream",
     "text": [
      "[nltk_data] Downloading package stopwords to /root/nltk_data...\n",
      "[nltk_data]   Unzipping corpora/stopwords.zip.\n",
      "[nltk_data] Downloading package punkt to /root/nltk_data...\n",
      "[nltk_data]   Unzipping tokenizers/punkt.zip.\n",
      "Word tokenization done\n",
      "Removing stopwords and punctuations to clean the sentences\n",
      "Filtering done\n"
     ]
    }
   ],
   "source": [
    "# Download the nltk stopwords\n",
    "import nltk\n",
    "nltk.download('stopwords')\n",
    "nltk.download('punkt')\n",
    "\n",
    "# Use nltk to get rid of the stop words and the punctuation marks\n",
    "from nltk import word_tokenize \n",
    "from nltk.corpus import stopwords\n",
    "from string import punctuation\n",
    "\n",
    "# Removal list\n",
    "to_remove = stopwords.words('english') + list(punctuation) + ['\"\"','``',\"''\",\"'s\",\"n't\",'’','--','“',\"'ve\",\"'re\",'0','1','2','3','4','5','6','7','8','9']\n",
    "\n",
    "# A list containing lists containing the words of the sentence after removing the punctuations and stop words\n",
    "tokenized_corpus = []\n",
    "# Tokenized corpus\n",
    "for sentence in train_text_corpus:\n",
    "  tokenized_corpus.append(word_tokenize(sentence.lower()))\n",
    "\n",
    "# Delete the text corpus\n",
    "del train_text_corpus\n",
    "  \n",
    "print('Word tokenization done')\n",
    "print('Removing stopwords and punctuations to clean the sentences')\n",
    "\n",
    "# Filter the corpus\n",
    "cleaned_corpus = []\n",
    "for sentence in tokenized_corpus:\n",
    "  cleaned_corpus.append([i for i in sentence if i not in to_remove])\n",
    "  \n",
    "# Delete the tokenized corpus\n",
    "del tokenized_corpus\n",
    "\n",
    "print('Filtering done')"
   ]
  },
  {
   "cell_type": "code",
   "execution_count": 0,
   "metadata": {
    "colab": {},
    "colab_type": "code",
    "id": "Y-s_jOQeGaAj"
   },
   "outputs": [],
   "source": [
    "def createDicts(data):\n",
    "  # Numeric value associated with the words\n",
    "  num_val = 0\n",
    "  # The dictionary\n",
    "  mapping_dict = {}\n",
    "  # Assign a unique value for each unique word\n",
    "  for word in data:\n",
    "    if word in mapping_dict.keys():\n",
    "      continue\n",
    "    else:\n",
    "      mapping_dict[word] = num_val\n",
    "      num_val += 1\n",
    "  # Create the reverse dictionary\n",
    "  reverse_mapping_dict = dict(zip(mapping_dict.values(),mapping_dict.keys()))\n",
    "  \n",
    "  return mapping_dict, reverse_mapping_dict\n",
    "\n",
    "mapping_dict, reverse_dict = createDicts([y for x in cleaned_corpus for y in x]) # List comprehension allows us to flatten our list of lists into a single list"
   ]
  },
  {
   "cell_type": "code",
   "execution_count": 0,
   "metadata": {
    "colab": {
     "base_uri": "https://localhost:8080/",
     "height": 51
    },
    "colab_type": "code",
    "id": "q7LEIT8Wxt0b",
    "outputId": "914434f2-7b65-44ae-e639-3b36d4f4991d"
   },
   "outputs": [
    {
     "name": "stdout",
     "output_type": "stream",
     "text": [
      "Finding word frequencies\n",
      "Collecting words having less than 10 occurences\n"
     ]
    }
   ],
   "source": [
    "# Remove low frequency words i.e words which have occurence frequency less than 10 a encoding of -1 and later remove them from our corpus\n",
    "from collections import Counter\n",
    "words = [y for x in cleaned_corpus for y in x]\n",
    "\n",
    "print('Finding word frequencies')\n",
    "frequencies = Counter(words).most_common()\n",
    "\n",
    "print('Collecting words having less than 10 occurences')\n",
    "\n",
    "# Collect the low frequency words\n",
    "low_freq = []\n",
    "for entry in frequencies:\n",
    "  if entry[1] < 10:\n",
    "    low_freq.append(entry[0])"
   ]
  },
  {
   "cell_type": "code",
   "execution_count": 0,
   "metadata": {
    "colab": {},
    "colab_type": "code",
    "id": "DyQOsTxuyem9"
   },
   "outputs": [],
   "source": [
    "# Set the encoding of the low frequency words to -1 as a unk token\n",
    "for word in low_freq:\n",
    "  mapping_dict.pop(word)\n",
    "  \n",
    "# mapping_dict['unk'] = len(mapping_dict.keys())\n",
    "  \n",
    "# Re number the word values\n",
    "mapping_dict_new = dict(zip(mapping_dict.keys(),[i for i in range(len(mapping_dict.keys()))]))\n",
    "  \n",
    "# Update the reverse dictionary\n",
    "reverse_dict = dict(zip(mapping_dict_new.values(),mapping_dict_new.keys()))"
   ]
  },
  {
   "cell_type": "code",
   "execution_count": 0,
   "metadata": {
    "colab": {},
    "colab_type": "code",
    "id": "RzQ7zLTXPyH6"
   },
   "outputs": [],
   "source": [
    "def buildDataset(mapping_dict,corpus):\n",
    "  \"\"\"\n",
    "  Encode the entire text corpus as numerical values using the mapping dictionary\n",
    "  \"\"\"\n",
    "  # List of the numeric word values\n",
    "  encoded_corpus = []\n",
    "  # Encode\n",
    "  for sentence in corpus:\n",
    "    sentence_encoded = []\n",
    "    for word in sentence:\n",
    "      sentence_encoded.append(mapping_dict.get(word,-1))\n",
    "    encoded_corpus.append(sentence_encoded)\n",
    "  \n",
    "  return encoded_corpus\n",
    "\n",
    "train_encoded_corpus = buildDataset(mapping_dict_new,cleaned_corpus)"
   ]
  },
  {
   "cell_type": "code",
   "execution_count": 0,
   "metadata": {
    "colab": {},
    "colab_type": "code",
    "id": "zFmLp5_gKWWi"
   },
   "outputs": [],
   "source": [
    "# Validation encodings\n",
    "# Tokenized corpus\n",
    "valid_tokenized_corpus = []\n",
    "for sentence in valid_text_corpus:\n",
    "  valid_tokenized_corpus.append(word_tokenize(sentence.lower()))"
   ]
  },
  {
   "cell_type": "code",
   "execution_count": 0,
   "metadata": {
    "colab": {},
    "colab_type": "code",
    "id": "-5wE1slnLF5x"
   },
   "outputs": [],
   "source": [
    "# Encode the validation\n",
    "valid_encoded_corpus = buildDataset(mapping_dict_new,valid_tokenized_corpus)"
   ]
  },
  {
   "cell_type": "code",
   "execution_count": 0,
   "metadata": {
    "colab": {},
    "colab_type": "code",
    "id": "a-Zz5df21K-R"
   },
   "outputs": [],
   "source": [
    "# Remove low frequency words for the train set\n",
    "# The -1s represent the less frequent words which are to be removed\n",
    "final_corpus = []\n",
    "for sentence in train_encoded_corpus:\n",
    "  final_corpus.append([i for i in sentence if i != -1])\n",
    "\n",
    "# Update the encoded corpus  \n",
    "del train_encoded_corpus\n",
    "train_encoded_corpus = final_corpus.copy()\n",
    "del final_corpus"
   ]
  },
  {
   "cell_type": "code",
   "execution_count": 0,
   "metadata": {
    "colab": {},
    "colab_type": "code",
    "id": "bdEDpmN3LnAa"
   },
   "outputs": [],
   "source": [
    "# Remove low frequency words for the test set\n",
    "# The -1s represent the less frequent words which are to be removed\n",
    "final_corpus = []\n",
    "for sentence in valid_encoded_corpus:\n",
    "  final_corpus.append([i for i in sentence if i != -1])\n",
    "\n",
    "# Update the encoded corpus  \n",
    "del valid_encoded_corpus\n",
    "valid_encoded_corpus = final_corpus.copy()\n",
    "del final_corpus"
   ]
  },
  {
   "cell_type": "code",
   "execution_count": 0,
   "metadata": {
    "colab": {},
    "colab_type": "code",
    "id": "oMnyYyov62nW"
   },
   "outputs": [],
   "source": [
    "# Define a constant sentence index\n",
    "sentence_index = 0\n",
    "# Number of distinct words\n",
    "vocab_length = len(mapping_dict.keys())\n",
    "# Total number of words\n",
    "total_words = len([y for x in train_encoded_corpus for y in x])"
   ]
  },
  {
   "cell_type": "code",
   "execution_count": 0,
   "metadata": {
    "colab": {
     "base_uri": "https://localhost:8080/",
     "height": 34
    },
    "colab_type": "code",
    "id": "nPwGdtST17Y1",
    "outputId": "2cb325f2-6950-4427-8161-6c2033a47ff2"
   },
   "outputs": [
    {
     "data": {
      "text/plain": [
       "19729"
      ]
     },
     "execution_count": 27,
     "metadata": {
      "tags": []
     },
     "output_type": "execute_result"
    }
   ],
   "source": [
    "vocab_length"
   ]
  },
  {
   "cell_type": "code",
   "execution_count": 0,
   "metadata": {
    "colab": {},
    "colab_type": "code",
    "id": "sCDc67NOpysX"
   },
   "outputs": [],
   "source": [
    "def getBatch(corpus=encoded_corpus,batch_size=40):\n",
    "  # The training batch\n",
    "  batch_X = np.empty(shape=[batch_size,vocab_length])\n",
    "  batch_y = np.empty(shape=[batch_size,vocab_length])\n",
    "  \n",
    "  # The number of batch entries\n",
    "  batch_counter = 0\n",
    "  \n",
    "  # The global sentence index\n",
    "  global sentence_index\n",
    "  \n",
    "  while sentence_index < len(corpus):\n",
    "    # The sentence\n",
    "    sentence = corpus[sentence_index]\n",
    "    # The input/center word\n",
    "    data_index = 0\n",
    "    while data_index < len(sentence):\n",
    "      # The surrounding skip-words having a window size of 2 i.e. 2 to the left & 2 to the right\n",
    "      skp_word_indices = [data_index-2,data_index-1,data_index+1,data_index+2]\n",
    "      # Create a one-hot vector for the central word\n",
    "      input_one_hot = np.zeros(shape=[vocab_length])\n",
    "      input_one_hot[sentence[data_index]] = 1\n",
    "\n",
    "      # Create pairs with the batches with the skip words\n",
    "      for skp_word_index in skp_word_indices:\n",
    "        if skp_word_index < 0:\n",
    "          continue\n",
    "        elif skp_word_index >= len(sentence):\n",
    "          continue\n",
    "        # Create a one-hot vector for the target\n",
    "        target_one_hot = np.zeros(shape=[vocab_length])\n",
    "        target_one_hot[sentence[data_index]] = 1\n",
    "        # Include the pair in the batch\n",
    "        batch_X[batch_counter,] = input_one_hot\n",
    "        batch_y[batch_counter,] = target_one_hot\n",
    "        # Increment the counter\n",
    "        batch_counter += 1\n",
    "        # Check if batch is filled\n",
    "        if batch_counter == batch_size:\n",
    "          return batch_X, batch_y\n",
    "          # Reset the batch counter\n",
    "          batch_counter = 0\n",
    "      \n",
    "      # Go to the next word\n",
    "      data_index += 1\n",
    "    \n",
    "    # Increment the sentence index\n",
    "    sentence_index += 1\n",
    "    \n",
    "    # Loop back to the first sentence\n",
    "    if sentence_index == (len(corpus)):\n",
    "      sentence_index = 0"
   ]
  },
  {
   "cell_type": "code",
   "execution_count": 0,
   "metadata": {
    "colab": {},
    "colab_type": "code",
    "id": "rv320Oy26lxA"
   },
   "outputs": [],
   "source": [
    "# Test the batching function\n",
    "batch_X, batch_y = getBatch()\n",
    "# Print the batch shapes\n",
    "print(\"X shape = \",batch_X.shape)\n",
    "# Print the batch shapes\n",
    "print(\"y shape = \",batch_y.shape)\n",
    "# Print the sentence index\n",
    "print(\"The global sentence index = \",sentence_index)"
   ]
  },
  {
   "cell_type": "code",
   "execution_count": 0,
   "metadata": {
    "colab": {},
    "colab_type": "code",
    "id": "mqwecuXYyvpp"
   },
   "outputs": [],
   "source": [
    "# Try to precompute the batches\n",
    "X_batches = []\n",
    "y_batches = []\n",
    "for batch_no in range(10000):\n",
    "  batch_X, batch_y = getBatch()\n",
    "  X_batches.append(batch_X)\n",
    "  y_batches.append(batch_y)\n",
    "  \n",
    "  if batch_no % 100 == 0:\n",
    "    print(\"Number of batches stored =\",len(X_batches))"
   ]
  },
  {
   "cell_type": "code",
   "execution_count": 0,
   "metadata": {
    "colab": {},
    "colab_type": "code",
    "id": "D5WyLGdMybzr"
   },
   "outputs": [],
   "source": [
    "batch_X"
   ]
  },
  {
   "cell_type": "markdown",
   "metadata": {
    "colab_type": "text",
    "id": "CU5_WsvUIkdr"
   },
   "source": [
    "The batching function works! Now the next step is to define the network using tf and train it using the batches obtained from our batching function."
   ]
  },
  {
   "cell_type": "code",
   "execution_count": 0,
   "metadata": {
    "colab": {},
    "colab_type": "code",
    "id": "KDd1W6ViMIRV"
   },
   "outputs": [],
   "source": [
    "def getBatchGenTrain(batch_size=500):\n",
    "  # The training batch\n",
    "  batch_X = np.empty(shape=[batch_size,vocab_length])\n",
    "  batch_y = np.empty(shape=[batch_size,vocab_length])\n",
    "  \n",
    "  # The global sentence index\n",
    "  global sentence_index\n",
    "  \n",
    "  # Batch counter stores the number of entries put in a batch after each iteration\n",
    "  batch_counter = 0\n",
    "  \n",
    "  while True:\n",
    "    # The sentence\n",
    "    sentence = train_encoded_corpus[sentence_index]\n",
    "    # The input/center word\n",
    "    data_index = 0\n",
    "    while data_index < len(sentence):\n",
    "      if data_index == 0:\n",
    "        # The next 2 words form the window\n",
    "        skp_word_indices = [data_index+1,data_index+2] \n",
    "      elif data_index == (len(sentence)-1):\n",
    "        # The previous 2 words\n",
    "        skp_word_indices = [data_index-2,data_index-1]\n",
    "      else:\n",
    "        # The surrounding skip-words having a window size of 2 i.e. 2 to the left & 2 to the right\n",
    "        skp_word_indices = [data_index-2,data_index-1,data_index+1,data_index+2]\n",
    "      \n",
    "      # Create a one-hot vector for the central word\n",
    "      input_one_hot = np.zeros(shape=[vocab_length])\n",
    "      input_one_hot[sentence[data_index]] = 1\n",
    "\n",
    "      # Create pairs with the batches with the skip words\n",
    "      for skp_word_index in np.random.choice(skp_word_indices,size=2,replace=False):\n",
    "        if skp_word_index < 0:\n",
    "          continue\n",
    "        elif skp_word_index >= len(sentence):\n",
    "          continue\n",
    "        # Create a one-hot vector for the target\n",
    "        target_one_hot = np.zeros(shape=[vocab_length])\n",
    "        target_one_hot[sentence[data_index]] = 1\n",
    "        # Include the pair in the batch\n",
    "        batch_X[batch_counter,] = input_one_hot\n",
    "        batch_y[batch_counter,] = target_one_hot\n",
    "        # Increment the counter\n",
    "        batch_counter += 1\n",
    "        # Check if batch is filled\n",
    "        if batch_counter == batch_size:\n",
    "          yield(batch_X, batch_y)\n",
    "          # Reset the batch counter\n",
    "          batch_counter = 0\n",
    "      \n",
    "      # Go to the next word\n",
    "      data_index += 1\n",
    "\n",
    "    # Increment the sentence index\n",
    "    sentence_index += 1\n",
    "\n",
    "    # Loop back to the first sentence\n",
    "    if sentence_index == (len(train_encoded_corpus)):\n",
    "      sentence_index = 0"
   ]
  },
  {
   "cell_type": "code",
   "execution_count": 0,
   "metadata": {
    "colab": {},
    "colab_type": "code",
    "id": "MOqJaKXOMMWG"
   },
   "outputs": [],
   "source": [
    "def getBatchGenValid(batch_size=1000):\n",
    "  # The training batch\n",
    "  batch_X = np.empty(shape=[batch_size,vocab_length])\n",
    "  batch_y = np.empty(shape=[batch_size,vocab_length])\n",
    "  \n",
    "  while True:\n",
    "    for i in range(batch_size):\n",
    "      # Random sentence index\n",
    "      sentence_index = np.random.randint(0,len(valid_encoded_corpus))\n",
    "      # Random sentence\n",
    "      sentence = valid_encoded_corpus[sentence_index]\n",
    "      # Random word\n",
    "      if len(sentence)!=0:\n",
    "        data_index = np.random.randint(0,len(sentence))\n",
    "      else:\n",
    "        continue\n",
    "\n",
    "      if data_index == 0:\n",
    "        # The next 2 words form the window\n",
    "        skp_word_indices = [data_index+1,data_index+2] \n",
    "      elif data_index == (len(sentence)-1):\n",
    "        # The previous 2 words\n",
    "        skp_word_indices = [data_index-2,data_index-1]\n",
    "      else:\n",
    "        # The surrounding skip-words having a window size of 2 i.e. 2 to the left & 2 to the right\n",
    "        skp_word_indices = [data_index-2,data_index-1,data_index+1,data_index+2]\n",
    "\n",
    "      # Create a one-hot vector for the central word\n",
    "      input_one_hot = np.zeros(shape=[vocab_length])\n",
    "      input_one_hot[sentence[data_index]] = 1\n",
    "\n",
    "      # Create pairs with the batches with the skip words\n",
    "      for skp_word_index in np.random.choice(skp_word_indices,size=1,replace=False):\n",
    "        if skp_word_index < 0:\n",
    "          continue\n",
    "        elif skp_word_index >= len(sentence):\n",
    "          continue\n",
    "        # Create a one-hot vector for the target\n",
    "        target_one_hot = np.zeros(shape=[vocab_length])\n",
    "        target_one_hot[sentence[data_index]] = 1\n",
    "        # Include the pair in the batch\n",
    "        batch_X[i,] = input_one_hot\n",
    "        batch_y[i,] = target_one_hot\n",
    "\n",
    "    yield(batch_X,batch_y)       "
   ]
  },
  {
   "cell_type": "markdown",
   "metadata": {},
   "source": [
    "### Modelling\n",
    "The output of the previous step i.e. data pre-processing consisted of mapping and reverse mapping dictionaries along with the encoded text corpus generated using the mapping dictionary. After the previous step we defined generators which are nothing but efficient pipelines to feed our encoded data corpus to our models in small chunks.\n",
    "\n",
    "With all this infrastructure setup now we use the keras library on top of the tensorflow library by Google to define our deep neural network. The model which we define here is an AutoEncoder model which means that the model is trained to regenerate the input from a smaller representation(word vectors). This small representation or word vectors contain condensed information regarding the context in which different words are used in our text corpus(news headline + short description).\n",
    "\n",
    "Following is the intuition of how the skip-gram model works:\n",
    "If two different words have very similar “contexts” (that is, what words are likely to appear around them), then our model needs to output very similar results for these two words. And one way for the network to output similar context predictions for these two words is if the word vectors are similar. So, if two words have similar contexts, then our network is motivated to learn similar word vectors for these two words! Ta da!\n",
    "\n",
    "And what does it mean for two words to have similar contexts? I think you could expect that synonyms like “intelligent” and “smart” would have very similar contexts. Or that words that are related, like “engine” and “transmission”, would probably have similar contexts as well.\n",
    "\n",
    "This can also handle stemming for you – the network will likely learn similar word vectors for the words “ant” and “ants” because these should have similar contexts. - http://mccormickml.com/2016/04/19/word2vec-tutorial-the-skip-gram-model/"
   ]
  },
  {
   "cell_type": "markdown",
   "metadata": {},
   "source": [
    "#### This is how our AutoEncoder looks"
   ]
  },
  {
   "cell_type": "code",
   "execution_count": 1,
   "metadata": {},
   "outputs": [
    {
     "data": {
      "text/html": [
       "<img src=\"https://lilianweng.github.io/lil-log/assets/images/word2vec-skip-gram.png\"/>"
      ],
      "text/plain": [
       "<IPython.core.display.Image object>"
      ]
     },
     "execution_count": 1,
     "metadata": {},
     "output_type": "execute_result"
    }
   ],
   "source": [
    "# Example of the skip-gram word sampling\n",
    "from IPython.display import Image\n",
    "from IPython.core.display import HTML \n",
    "Image(url= \"https://lilianweng.github.io/lil-log/assets/images/word2vec-skip-gram.png\")"
   ]
  },
  {
   "cell_type": "markdown",
   "metadata": {},
   "source": [
    "#### The N-dimension vector obtained in the hidden layer is our word vector!"
   ]
  },
  {
   "cell_type": "code",
   "execution_count": 0,
   "metadata": {
    "colab": {
     "base_uri": "https://localhost:8080/",
     "height": 292
    },
    "colab_type": "code",
    "id": "4MbMk2LXFcRZ",
    "outputId": "60afab39-8694-45bf-89b4-548c863abd8f"
   },
   "outputs": [
    {
     "name": "stdout",
     "output_type": "stream",
     "text": [
      "WARNING:tensorflow:From /usr/local/lib/python3.6/dist-packages/tensorflow/python/framework/op_def_library.py:263: colocate_with (from tensorflow.python.framework.ops) is deprecated and will be removed in a future version.\n",
      "Instructions for updating:\n",
      "Colocations handled automatically by placer.\n",
      "_________________________________________________________________\n",
      "Layer (type)                 Output Shape              Param #   \n",
      "=================================================================\n",
      "encoding_layer (Dense)       (None, 100)               1973000   \n",
      "_________________________________________________________________\n",
      "decoding_layer (Dense)       (None, 19729)             1992629   \n",
      "=================================================================\n",
      "Total params: 3,965,629\n",
      "Trainable params: 3,965,629\n",
      "Non-trainable params: 0\n",
      "_________________________________________________________________\n"
     ]
    },
    {
     "name": "stderr",
     "output_type": "stream",
     "text": [
      "Using TensorFlow backend.\n"
     ]
    }
   ],
   "source": [
    "# Try making the model using keras \n",
    "# from tensorflow import keras\n",
    "from keras.models import Sequential\n",
    "from keras import layers\n",
    "\n",
    "word2vec = Sequential()\n",
    "word2vec.add(layers.Dense(100,activation='relu',input_shape=(vocab_length,),name='encoding_layer'))\n",
    "word2vec.add(layers.Dense(vocab_length,activation='softmax',name='decoding_layer'))\n",
    "\n",
    "word2vec.compile(optimizer='adam',loss='categorical_crossentropy',metrics=['accuracy'])\n",
    "\n",
    "word2vec.summary()"
   ]
  },
  {
   "cell_type": "code",
   "execution_count": 0,
   "metadata": {
    "colab": {
     "base_uri": "https://localhost:8080/",
     "height": 428
    },
    "colab_type": "code",
    "id": "ajqn2PpBH0Bz",
    "outputId": "2b174cd0-740a-493d-c206-fe9093b8dc7f"
   },
   "outputs": [
    {
     "name": "stdout",
     "output_type": "stream",
     "text": [
      "WARNING:tensorflow:From /usr/local/lib/python3.6/dist-packages/tensorflow/python/ops/math_ops.py:3066: to_int32 (from tensorflow.python.ops.math_ops) is deprecated and will be removed in a future version.\n",
      "Instructions for updating:\n",
      "Use tf.cast instead.\n",
      "Epoch 1/10\n",
      "4281/4280 [==============================] - 930s 217ms/step - loss: 6.9055 - acc: 0.2692 - val_loss: 3.8084 - val_acc: 0.6530\n",
      "Epoch 2/10\n",
      "4281/4280 [==============================] - 926s 216ms/step - loss: 5.3735 - acc: 0.4720 - val_loss: 2.8121 - val_acc: 0.7560\n",
      "Epoch 3/10\n",
      "4281/4280 [==============================] - 922s 215ms/step - loss: 4.9535 - acc: 0.5201 - val_loss: 2.4679 - val_acc: 0.7905\n",
      "Epoch 4/10\n",
      "4281/4280 [==============================] - 924s 216ms/step - loss: 4.7258 - acc: 0.5472 - val_loss: 2.0134 - val_acc: 0.8420\n",
      "Epoch 5/10\n",
      "4281/4280 [==============================] - 921s 215ms/step - loss: 4.5951 - acc: 0.5645 - val_loss: 2.0545 - val_acc: 0.8425\n",
      "Epoch 6/10\n",
      "4281/4280 [==============================] - 920s 215ms/step - loss: 4.5148 - acc: 0.5744 - val_loss: 1.9416 - val_acc: 0.8570\n",
      "Epoch 7/10\n",
      "4281/4280 [==============================] - 923s 216ms/step - loss: 4.4834 - acc: 0.5791 - val_loss: 1.8979 - val_acc: 0.8690\n",
      "Epoch 8/10\n",
      "4281/4280 [==============================] - 921s 215ms/step - loss: 4.4729 - acc: 0.5816 - val_loss: 2.1046 - val_acc: 0.8405\n",
      "Epoch 9/10\n",
      "4281/4280 [==============================] - 920s 215ms/step - loss: 4.4169 - acc: 0.5842 - val_loss: 1.8784 - val_acc: 0.8665\n",
      "Epoch 10/10\n",
      "4281/4280 [==============================] - 931s 217ms/step - loss: 4.4409 - acc: 0.5827 - val_loss: 2.1821 - val_acc: 0.8305\n"
     ]
    }
   ],
   "source": [
    "# Train the created model\n",
    "batch_size = 1000\n",
    "steps = ((total_words - len(train_encoded_corpus))*2)/batch_size\n",
    "\n",
    "# Setup callbacks to save the best model and early stopping if val loss doesn't decrease after 2 epochs\n",
    "# https://chrisalbon.com/deep_learning/keras/neural_network_early_stopping/\n",
    "from keras.callbacks import EarlyStopping, ModelCheckpoint\n",
    "\n",
    "# Set callback functions to early stop training and save the best model so far\n",
    "callbacks = [EarlyStopping(monitor='val_loss', patience=2),ModelCheckpoint(filepath='best_model.h5', monitor='val_loss', save_best_only=True)]\n",
    "\n",
    "history = word2vec.fit_generator(generator=getBatchGenTrain(batch_size),steps_per_epoch=steps,validation_data=getBatchGenValid(batch_size),validation_steps=2,callbacks=callbacks,epochs=10)"
   ]
  },
  {
   "cell_type": "code",
   "execution_count": 0,
   "metadata": {
    "colab": {},
    "colab_type": "code",
    "id": "DJz7mAsbSo-j"
   },
   "outputs": [],
   "source": [
    "# Save the model\n",
    "model_json = word2vec.to_json()\n",
    "with open(\"word2vec_arch.json\", \"w\") as json_file:\n",
    "    json_file.write(model_json)\n",
    "# serialize weights to HDF5\n",
    "word2vec.save_weights(\"word2vec_weights.h5\")\n",
    "print(\"Saved model to disk\")\n",
    "\n",
    "# Download the model files\n",
    "from google.colab import files\n",
    "files.download(\"word2vec_arch.json\")\n",
    "files.download(\"word2vec_weights.h5\")\n",
    "print(\"Downloaded model locally\")"
   ]
  },
  {
   "cell_type": "code",
   "execution_count": 0,
   "metadata": {
    "colab": {
     "base_uri": "https://localhost:8080/",
     "height": 108,
     "resources": {
      "http://localhost:8080/nbextensions/google.colab/files.js": {
       "data": "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",
       "headers": [
        [
         "content-type",
         "application/javascript"
        ]
       ],
       "ok": true,
       "status": 200,
       "status_text": ""
      }
     }
    },
    "colab_type": "code",
    "id": "Ds9gj2Y_C0co",
    "outputId": "8d3302bf-7e42-4012-cec2-4071dc02c9aa"
   },
   "outputs": [
    {
     "data": {
      "text/html": [
       "\n",
       "     <input type=\"file\" id=\"files-cc1779df-f4be-41a4-9bfc-1a330f1bd8a1\" name=\"files[]\" multiple disabled />\n",
       "     <output id=\"result-cc1779df-f4be-41a4-9bfc-1a330f1bd8a1\">\n",
       "      Upload widget is only available when the cell has been executed in the\n",
       "      current browser session. Please rerun this cell to enable.\n",
       "      </output>\n",
       "      <script src=\"/nbextensions/google.colab/files.js\"></script> "
      ],
      "text/plain": [
       "<IPython.core.display.HTML object>"
      ]
     },
     "metadata": {
      "tags": []
     },
     "output_type": "display_data"
    },
    {
     "name": "stdout",
     "output_type": "stream",
     "text": [
      "Saving word2vec_arch_new.json to word2vec_arch_new.json\n",
      "Saving word2vec_weights_new.h5 to word2vec_weights_new.h5\n"
     ]
    }
   ],
   "source": [
    "# Upload the model files\n",
    "from google.colab import files\n",
    "uploaded = files.upload()"
   ]
  },
  {
   "cell_type": "code",
   "execution_count": 0,
   "metadata": {
    "colab": {
     "base_uri": "https://localhost:8080/",
     "height": 122
    },
    "colab_type": "code",
    "id": "DQNC4vMjBMkj",
    "outputId": "6fe02809-faee-4bfb-d3a3-6a6e2516f5e9"
   },
   "outputs": [
    {
     "name": "stdout",
     "output_type": "stream",
     "text": [
      "WARNING:tensorflow:From /usr/local/lib/python3.6/dist-packages/tensorflow/python/framework/op_def_library.py:263: colocate_with (from tensorflow.python.framework.ops) is deprecated and will be removed in a future version.\n",
      "Instructions for updating:\n",
      "Colocations handled automatically by placer.\n"
     ]
    },
    {
     "name": "stderr",
     "output_type": "stream",
     "text": [
      "Using TensorFlow backend.\n"
     ]
    },
    {
     "name": "stdout",
     "output_type": "stream",
     "text": [
      "Loaded model from disk\n"
     ]
    }
   ],
   "source": [
    "#Load our model\n",
    "from keras.models import model_from_json\n",
    "from keras import optimizers\n",
    "\n",
    "# load json and create model\n",
    "json_file = open(\"word2vec_arch_new.json\", 'r')\n",
    "loaded_model_json = json_file.read()\n",
    "json_file.close()\n",
    "loaded_model = model_from_json(loaded_model_json)\n",
    "# load weights into new model\n",
    "loaded_model.load_weights(\"word2vec_weights_new.h5\")\n",
    "print(\"Loaded model from disk\")\n",
    " \n",
    "# evaluate loaded model on test data\n",
    "loaded_model.compile(optimizer='adam',loss='categorical_crossentropy',metrics=['accuracy'])"
   ]
  },
  {
   "cell_type": "code",
   "execution_count": 0,
   "metadata": {
    "colab": {
     "base_uri": "https://localhost:8080/",
     "height": 170
    },
    "colab_type": "code",
    "id": "oZEHTWtcHMH5",
    "outputId": "412777ab-8cbe-4cf5-fb75-b31ea3ad8aca"
   },
   "outputs": [
    {
     "name": "stdout",
     "output_type": "stream",
     "text": [
      "_________________________________________________________________\n",
      "Layer (type)                 Output Shape              Param #   \n",
      "=================================================================\n",
      "encoding_layer (Dense)       (None, 100)               1973000   \n",
      "=================================================================\n",
      "Total params: 1,973,000\n",
      "Trainable params: 1,973,000\n",
      "Non-trainable params: 0\n",
      "_________________________________________________________________\n"
     ]
    }
   ],
   "source": [
    "# Create a separate encoding model using the weights from the previously trained model\n",
    "# The new model only has the encoding layers and hence gives us the embeddings for the inputs\n",
    "from keras.models import Sequential\n",
    "\n",
    "encoder = Sequential()\n",
    "encoder.add(loaded_model.layers[0])\n",
    "encoder.summary()"
   ]
  },
  {
   "cell_type": "code",
   "execution_count": 0,
   "metadata": {
    "colab": {},
    "colab_type": "code",
    "id": "tNXv3q0ZOcm9"
   },
   "outputs": [],
   "source": [
    "# Get the representations for all the words\n",
    "# vocab_length = 19727\n",
    "embeddings = np.zeros(shape=[vocab_length,vocab_length])\n",
    "\n",
    "for value in range(vocab_length):\n",
    "  # Create the one hot embedding\n",
    "  temp = np.zeros(shape=[vocab_length])\n",
    "  temp[value] = 1\n",
    "  embeddings[value] = temp"
   ]
  },
  {
   "cell_type": "code",
   "execution_count": 0,
   "metadata": {
    "colab": {},
    "colab_type": "code",
    "id": "-kjx24Y8P-I8"
   },
   "outputs": [],
   "source": [
    "# Predict their embeddings\n",
    "embeddings = encoder.predict(embeddings)"
   ]
  },
  {
   "cell_type": "code",
   "execution_count": 0,
   "metadata": {
    "colab": {},
    "colab_type": "code",
    "id": "ILghrfPMPvWR"
   },
   "outputs": [],
   "source": [
    "# Save the dimension reduced embeddings\n",
    "np.save('word_embeddings',embeddings)"
   ]
  },
  {
   "cell_type": "code",
   "execution_count": 0,
   "metadata": {
    "colab": {},
    "colab_type": "code",
    "id": "luS5xKF6QJii"
   },
   "outputs": [],
   "source": [
    "# Reduce the dimensionality to 2 for plotting them\n",
    "from sklearn.manifold import TSNE\n",
    "\n",
    "embeddings_2d = TSNE(n_components=2).fit_transform(embeddings)"
   ]
  },
  {
   "cell_type": "code",
   "execution_count": 0,
   "metadata": {
    "colab": {},
    "colab_type": "code",
    "id": "2JFzqNDbUcp5"
   },
   "outputs": [],
   "source": [
    "# Save the dimension reduced embeddings\n",
    "np.save('embeddings_2d_new',embeddings_2d)"
   ]
  },
  {
   "cell_type": "markdown",
   "metadata": {},
   "source": [
    "## Results\n",
    "### Visualizing Word Vectors\n",
    "Finally after training our model we get word vectors for the frequent words in our corpus. We reduce the dimensionality of these vectors to be able to represent them in a 2D plot. Below we can see the plot of the word vectors in a 2D plot. We can from this plot infer the context of the words used in news articles. For example, towards the top right of the plot, we can see that 'happy' and 'equality' are close by indicating similarity in context. Also towards the bottom left we can see that the owrds 'terrifying' and 'rivarly' are very close to each other indicating very similar context. We can also see that towards the mid left of the plot 'young' and 'vacation' are very close which may convey the implicit context that the news articles tend to use these words together which may or may not influence the readers."
   ]
  },
  {
   "cell_type": "code",
   "execution_count": 0,
   "metadata": {
    "colab": {
     "base_uri": "https://localhost:8080/",
     "height": 607
    },
    "colab_type": "code",
    "id": "LMbGlqdfUqEt",
    "outputId": "14abec44-daaa-4660-e8ee-d1371f2535e2"
   },
   "outputs": [
    {
     "data": {
      "image/png": "[encoded data removed]",
      "text/plain": [
       "<Figure size 720x720 with 1 Axes>"
      ]
     },
     "metadata": {
      "tags": []
     },
     "output_type": "display_data"
    }
   ],
   "source": [
    "plt.plot(embeddings[:300,0],embeddings_2d[:300,1],'r.')\n",
    "\n",
    "for i, txt in enumerate(list(mapping_dict.keys())[:300]):\n",
    "  plt.annotate(txt,(embeddings[i,0],embeddings_2d[i,1]))\n",
    "  \n",
    "plt.title('Plot of word embeddings in a 2d space')\n",
    "plt.show()"
   ]
  },
  {
   "cell_type": "markdown",
   "metadata": {
    "colab_type": "text",
    "id": "ZAJOQIhu26-o"
   },
   "source": [
    "## Discussion\n",
    "As we saw in the results section using a visual plot of the word vectors we can get the context in which these words are used. This project used articles from only 1 news source(HuffPost) but it is possible to get generate such plots for multiple news sources which would then give us an idea of how contextual similar or dissimilar are the same words but from different sources. For example, a certain word like 'refugees' might have different context (surrounding words) depending upon which news source we use.\n",
    "\n",
    "The big data course allowed me to first visualize and frame a data pipeline consisting of data loading, exploration, pre-processing, modelling and then documentation in the form of this Jupyter Notebook. The sections on data quality enabled me to think about how I could refine/clean my data, for example removing stopwords, removing less frequent words. The analytics section helped me formulate my problem statement and the modelling and visualization tasks I had to perform in order to achieve the expected results. The strategy section helped me to decide how to plan out these steps and if this project was viable.\n",
    "\n",
    "The biggest challenge I faced was pre-processing the large amount of textual data. The pre-processing of the textual corpus involved cleaning the data, creating mapping and reverse-mapping dictionaries and then encoding and decoding the corpus using these dictionaries. Another challenge I faced was the lack of compute resources, training the skip-gram model on such a large dataset is very resource intensive which is one of the reasons why I choose Google Colab to do this project. Even then I could train my model for only 10 epochs, ideally I would have like to train my model for atleast 100 epochs. "
   ]
  },
  {
   "cell_type": "markdown",
   "metadata": {},
   "source": [
    "## Conclusion\n",
    "In this project I used a text corpus obtained from the headlines and short descriptions of news articles to get embeddings for the words in the corpus using the skip-gram model and visualized these words using their embeddings in a 2D plot. This plot allows us to get an idea of the context in which these words were used. We can plot such graphs for different sources of news to find the similarities/dissimilarities in word contexts."
   ]
  },
  {
   "cell_type": "markdown",
   "metadata": {},
   "source": [
    "## References\n",
    "1. Dataset - https://www.kaggle.com/rmisra/news-category-dataset\n",
    "2. Motivation -  https://en.wikipedia.org/wiki/Agenda-setting_theory\n",
    "3. Text data pre-processing - https://towardsdatascience.com/effectively-pre-processing-the-text-data-part-1-text-cleaning-9ecae119cb3e\n",
    "4. Pre-processing for skip gram model - http://mccormickml.com/2016/04/19/word2vec-tutorial-the-skip-gram-model/\n",
    "5. Skip-gram model - http://mccormickml.com/2016/04/19/word2vec-tutorial-the-skip-gram-model/\n",
    "6. Dimesionality reduction for generating the plot - https://scikit-learn.org/stable/modules/generated/sklearn.decomposition.PCA.html"
   ]
  }
 ],
 "metadata": {
  "accelerator": "GPU",
  "colab": {
   "collapsed_sections": [],
   "name": "News_Classification.ipynb",
   "provenance": []
  },
  "kernelspec": {
   "display_name": "Python 3",
   "language": "python",
   "name": "python3"
  },
  "language_info": {
   "codemirror_mode": {
    "name": "ipython",
    "version": 3
   },
   "file_extension": ".py",
   "mimetype": "text/x-python",
   "name": "python",
   "nbconvert_exporter": "python",
   "pygments_lexer": "ipython3",
   "version": "3.6.5"
  }
 },
 "nbformat": 4,
 "nbformat_minor": 1
}
